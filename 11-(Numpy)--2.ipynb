{
 "cells": [
  {
   "cell_type": "code",
   "execution_count": 1,
   "metadata": {},
   "outputs": [
    {
     "name": "stdout",
     "output_type": "stream",
     "text": [
      "int32\n",
      "[2 4 1 5 3]\n"
     ]
    }
   ],
   "source": [
    "from numpy import *\n",
    "arr = array([2,4,1,5,3])\n",
    "\n",
    "print(arr.dtype)\n",
    "print(arr)"
   ]
  },
  {
   "cell_type": "code",
   "execution_count": 2,
   "metadata": {},
   "outputs": [
    {
     "name": "stdout",
     "output_type": "stream",
     "text": [
      "[10. 14. 18. 22. 26. 30.]\n"
     ]
    }
   ],
   "source": [
    "from numpy import *\n",
    "arr = linspace(10,30,6)\n",
    "\n",
    "print(arr)"
   ]
  },
  {
   "cell_type": "code",
   "execution_count": 3,
   "metadata": {},
   "outputs": [
    {
     "name": "stdout",
     "output_type": "stream",
     "text": [
      "[ 1  3  5  7  9 11 13 15 17]\n"
     ]
    }
   ],
   "source": [
    "from numpy import *\n",
    "arr = arange(1,19,2)\n",
    "\n",
    "print(arr)"
   ]
  },
  {
   "cell_type": "code",
   "execution_count": 4,
   "metadata": {},
   "outputs": [
    {
     "name": "stdout",
     "output_type": "stream",
     "text": [
      "[1.00000000e+01 3.16227766e+20 1.00000000e+40]\n"
     ]
    }
   ],
   "source": [
    "from numpy import *\n",
    "arr = logspace(1,40,3)\n",
    "\n",
    "print(arr)"
   ]
  },
  {
   "cell_type": "code",
   "execution_count": 5,
   "metadata": {},
   "outputs": [
    {
     "name": "stdout",
     "output_type": "stream",
     "text": [
      "[1. 1. 1. 1. 1.]\n"
     ]
    }
   ],
   "source": [
    "from numpy import *\n",
    "arr = ones(5)\n",
    "\n",
    "print(arr)"
   ]
  },
  {
   "cell_type": "code",
   "execution_count": 6,
   "metadata": {},
   "outputs": [
    {
     "name": "stdout",
     "output_type": "stream",
     "text": [
      "[0. 0. 0. 0. 0.]\n"
     ]
    }
   ],
   "source": [
    "from numpy import *\n",
    "arr = zeros(5)\n",
    "\n",
    "print(arr)"
   ]
  },
  {
   "cell_type": "code",
   "execution_count": 7,
   "metadata": {},
   "outputs": [
    {
     "name": "stdout",
     "output_type": "stream",
     "text": [
      "[ 8 10 12 13  9]\n",
      "[10 11 16 15 15]\n"
     ]
    }
   ],
   "source": [
    "#add 2 arrays values\n",
    "from numpy import *\n",
    "arr = array([2,4,6,7,3])\n",
    "arr = arr + 6\n",
    "print(arr)\n",
    "arr2 = array([2,1,4,2,6])\n",
    "arr3 = arr + arr2\n",
    "print(arr3)"
   ]
  },
  {
   "cell_type": "code",
   "execution_count": 8,
   "metadata": {},
   "outputs": [
    {
     "name": "stdout",
     "output_type": "stream",
     "text": [
      "sin value of each element of array:  [ 0.90929743 -0.7568025  -0.2794155   0.98935825  0.41211849]\n",
      "cos value of each element of array:  [-0.41614684 -0.65364362  0.96017029 -0.14550003 -0.91113026]\n",
      "log value of each element of array:  [0.69314718 1.38629436 1.79175947 2.07944154 2.19722458]\n",
      "square value of each element of array:  [ 4 16 36 64 81]\n",
      "squareroot value of each element of array:  [1.41421356 2.         2.44948974 2.82842712 3.        ]\n",
      "sum of all elements of array:  29\n",
      "to find minimum value from array elements:  2\n",
      "to find maximum value from array elements:  9\n"
     ]
    }
   ],
   "source": [
    "#math function with numpy\n",
    "\n",
    "from numpy import *\n",
    "arr = array([2,4,6,8,9])\n",
    "print(\"sin value of each element of array: \",sin(arr)) #to sin walue of each element\n",
    "print(\"cos value of each element of array: \",cos(arr)) #to cos walue of each element\n",
    "print(\"log value of each element of array: \",log(arr)) #to log walue of each element\n",
    "print(\"square value of each element of array: \",square(arr)) #to square walue of each element\n",
    "print(\"squareroot value of each element of array: \",sqrt(arr)) #to squareroot walue of each element\n",
    "print(\"sum of all elements of array: \",sum(arr)) #to sum all walues\n",
    "print(\"to find minimum value from array elements: \",min(arr)) #to find minimum value\n",
    "print(\"to find maximum value from array elements: \",max(arr)) #to find maximum value\n"
   ]
  },
  {
   "cell_type": "code",
   "execution_count": 9,
   "metadata": {},
   "outputs": [
    {
     "name": "stdout",
     "output_type": "stream",
     "text": [
      "[2 4 6 7 3 5 3 7 8 3]\n"
     ]
    }
   ],
   "source": [
    "#concatenate function\n",
    "from numpy import *\n",
    "arr1 = array([2,4,6,7,3])\n",
    "arr2 = array([5,3,7,8,3])\n",
    "print(concatenate([arr1,arr2]))\n"
   ]
  },
  {
   "cell_type": "code",
   "execution_count": 10,
   "metadata": {},
   "outputs": [
    {
     "name": "stdout",
     "output_type": "stream",
     "text": [
      "[2 4 6 7 3]\n",
      "[2 4 6 7 3]\n",
      "2240932036400\n",
      "2240932036400\n"
     ]
    }
   ],
   "source": [
    "#aliasing\n",
    "from numpy import *\n",
    "arr1 = array([2,4,6,7,3])\n",
    "\n",
    "arr2 = arr1\n",
    "\n",
    "print(arr1)\n",
    "print(arr2)\n",
    "\n",
    "print(id(arr1))\n",
    "print(id(arr2))"
   ]
  },
  {
   "cell_type": "code",
   "execution_count": 11,
   "metadata": {},
   "outputs": [
    {
     "name": "stdout",
     "output_type": "stream",
     "text": [
      "[2 4 6 5 3]\n",
      "[2 4 6 5 3]\n",
      "2240932036000\n",
      "2240932135920\n"
     ]
    }
   ],
   "source": [
    "#shallow copy and   deep copy\n",
    "#shalow copy-\n",
    "from numpy import *\n",
    "arr1 = array([2,4,6,7,3])\n",
    "\n",
    "arr2 = arr1.view() #shallow copy\n",
    "#it will copy the elements, but both array depends on each other.\n",
    "arr1[3] = 5\n",
    "\n",
    "print(arr1)\n",
    "print(arr2)\n",
    "print(id(arr1))\n",
    "print(id(arr2))"
   ]
  },
  {
   "cell_type": "code",
   "execution_count": 12,
   "metadata": {},
   "outputs": [
    {
     "name": "stdout",
     "output_type": "stream",
     "text": [
      "[2 4 6 5 3]\n",
      "[2 4 6 7 3]\n",
      "2240932135120\n",
      "2240932136000\n"
     ]
    }
   ],
   "source": [
    "#shallow copy and   deep copy\n",
    "#deep copy-\n",
    "from numpy import *\n",
    "arr1 = array([2,4,6,7,3])\n",
    "\n",
    "arr2 = arr1.copy() #deep copy\n",
    "# it will copy the elements and create two different array,\n",
    "# two different values, not linked with each other.\n",
    "\n",
    "arr1[3] = 5\n",
    "\n",
    "print(arr1)\n",
    "print(arr2)\n",
    "print(id(arr1))\n",
    "print(id(arr2))\n",
    "\n"
   ]
  },
  {
   "cell_type": "code",
   "execution_count": 13,
   "metadata": {},
   "outputs": [
    {
     "name": "stdout",
     "output_type": "stream",
     "text": [
      "4\n"
     ]
    }
   ],
   "source": [
    "#to find max value from array without using in built function\n",
    "from numpy import *\n",
    "arr1 = array([4,2,1])\n",
    "if arr1[0]>arr1[1] and arr1[1]>arr1[2]:\n",
    "    print(arr1[0])\n",
    "elif arr1[1]>arr1[2]:\n",
    "    print(arr1[1])\n",
    "else:\n",
    "    print(arr1[2])\n"
   ]
  },
  {
   "cell_type": "code",
   "execution_count": 14,
   "metadata": {},
   "outputs": [
    {
     "name": "stdout",
     "output_type": "stream",
     "text": [
      "Type of data in array:  int32\n",
      "Number of demention:  2\n",
      "Array has row and colomns(rows,columns):  (2, 6)\n",
      "Size of entire block:  12\n",
      "[5 6 7 8 7 2 3 7 9 2 8 1]\n",
      "after reshape,1D array becomes 2D array\n",
      " [[5 6 7 8]\n",
      " [7 2 3 7]\n",
      " [9 2 8 1]]\n",
      "after reshape,1D array becomes 3D array\n",
      " [[[5 6 7]\n",
      "  [8 7 2]]\n",
      "\n",
      " [[3 7 9]\n",
      "  [2 8 1]]]\n"
     ]
    }
   ],
   "source": [
    "#multi dementional array and attributes\n",
    "from numpy import *\n",
    "arr1 = array([\n",
    "            [5,6,7,8,7,2],\n",
    "            [3,7,9,2,8,1]\n",
    "])\n",
    "\n",
    "print(\"Type of data in array: \",arr1.dtype) #dtype attribute tells type of array\n",
    "print(\"Number of demention: \",arr1.ndim) #it gives number of demention\n",
    "print(\"Array has row and colomns(rows,columns): \",arr1.shape)\n",
    "# it will gives a tuple with value of number of rows and columns in the array.\n",
    "print(\"Size of entire block: \",arr1.size) # Size of entire block (number of elements in array)\n",
    "\n",
    "arr2 = arr1.flatten()#it will flat the 2 dementional array(becomes single dementional array)\n",
    "print(arr2)\n",
    "\n",
    "\n",
    "arr3 = arr2.reshape(3,4) #reshape attribute can convert single dementional array into 2d or 3d arrya\n",
    "# here it convert 2d array\n",
    "print(\"after reshape,1D array becomes 2D array\\n\",arr3)\n",
    "\n",
    "arr3 = arr2.reshape(2,2,3)\n",
    "# here it convert 3d array\n",
    "print(\"after reshape,1D array becomes 3D array\\n\",arr3)"
   ]
  },
  {
   "cell_type": "code",
   "execution_count": 15,
   "metadata": {},
   "outputs": [
    {
     "name": "stdout",
     "output_type": "stream",
     "text": [
      "[[1 3 5]\n",
      " [2 5 2]\n",
      " [3 5 8]]\n",
      "diagonal values: [1 5 8]\n",
      "Minimum value of matrix: 1\n",
      "Maximum value of matrix: 8\n"
     ]
    }
   ],
   "source": [
    "#matrix and its attributes\n",
    "from numpy import *\n",
    "k = matrix('1 3 5 ;2 5 2; 3 5 8') #we can define array like this in matrix\n",
    "print(k)\n",
    "\n",
    "print(\"diagonal values:\",diagonal(k)) #it prints diagonal values of matrix.\n",
    "print(\"Minimum value of matrix:\",k.min()) #it find minimum value of matrix.\n",
    "print(\"Maximum value of matrix:\",k.max()) #it find maximum value of matrix.\n"
   ]
  },
  {
   "cell_type": "code",
   "execution_count": 16,
   "metadata": {},
   "outputs": [
    {
     "name": "stdout",
     "output_type": "stream",
     "text": [
      "[[1 3 5]\n",
      " [2 5 2]\n",
      " [3 5 8]]\n",
      "[[2 5 2]\n",
      " [4 2 7]\n",
      " [6 2 3]]\n",
      "multiplication of above mentioned arrays: \n",
      " [[44 21 38]\n",
      " [36 24 45]\n",
      " [74 41 65]]\n"
     ]
    }
   ],
   "source": [
    "#multipy matrix\n",
    "from numpy import *\n",
    "k = matrix('1 3 5 ;2 5 2; 3 5 8')\n",
    "j = matrix('2,5,2 ;4,2,7; 6,2,3')\n",
    "\n",
    "print(k)\n",
    "print(j)\n",
    "\n",
    "l = k * j\n",
    "\n",
    "print(\"multiplication of above mentioned arrays: \\n\",l)"
   ]
  }
 ],
 "metadata": {
  "kernelspec": {
   "display_name": "Python 3",
   "language": "python",
   "name": "python3"
  },
  "language_info": {
   "codemirror_mode": {
    "name": "ipython",
    "version": 3
   },
   "file_extension": ".py",
   "mimetype": "text/x-python",
   "name": "python",
   "nbconvert_exporter": "python",
   "pygments_lexer": "ipython3",
   "version": "3.7.3"
  }
 },
 "nbformat": 4,
 "nbformat_minor": 1
}
