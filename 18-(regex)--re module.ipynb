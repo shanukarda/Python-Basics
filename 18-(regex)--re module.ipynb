{
 "cells": [
  {
   "cell_type": "code",
   "execution_count": 1,
   "metadata": {},
   "outputs": [
    {
     "name": "stdout",
     "output_type": "stream",
     "text": [
      "\\tTab\n"
     ]
    }
   ],
   "source": [
    "'''\n",
    ">>> Operators in re modul. <<<\n",
    "\n",
    ".      - Any Character Except New Line\n",
    "\\d     - Digit (0-9)\n",
    "\\D     - Not a Digit (0-9)\n",
    "\\w     - Word Character (a-z, A-Z, 0-9, _)\n",
    "\\W     - Not a Word Character\n",
    "\\s     - Whitespace (space, tab, newline)\n",
    "\\S     - Not Whitespace (space, tab, newline)\n",
    "\n",
    "\n",
    ">> Anchors <<\n",
    "\n",
    "\\b     - Word Boundary\n",
    "\\B     - Not a Word Boundary\n",
    "^      - Beginning of a String\n",
    "$      - End of a String\n",
    "\n",
    "\n",
    "\n",
    "[]     - Matches Characters in brackets\n",
    "[^ ]   - Matches Characters NOT in brackets\n",
    "|      - Either Or\n",
    "()     - Group\n",
    "\n",
    "\n",
    "Quantifiers:\n",
    "*      - 0 or More\n",
    "+      - 1 or More\n",
    "?      - 0 or One\n",
    "{3}    - Exact Number\n",
    "{3,4}  - Range of Numbers (Minimum, Maximum)\n",
    "\n",
    "\n",
    "\n",
    "'''\n",
    "\n",
    "\n",
    "\n",
    "import re\n",
    "\n",
    "text_to_search = '''\n",
    "abcdefghijklmnopqrstuvwxyz\n",
    "ABCDEFGHIJKLMNOPQRSTUVWXYZ\n",
    "123456890\n",
    "\n",
    "Ha HaHa\n",
    "\n",
    "\n",
    "MetaCharacters (Need to be escaped):\n",
    ". ^ $ * + ? { } [ ] \\ | ( )\n",
    "\n",
    "coreyms.com\n",
    "\n",
    "321-555-4321\n",
    "123.555.1234\n",
    "\n",
    "800-555-7894\n",
    "900-777-8945\n",
    "\n",
    "Mr. Schafer\n",
    "Mr Smith\n",
    "Ms Davis\n",
    "Mrs. Robinson\n",
    "Mr. T\n",
    "'''\n",
    "\n",
    "sentence= 'Start a sentence and then bring it to an end'\n",
    "\n",
    "print(r'\\tTab')\n",
    "\n"
   ]
  },
  {
   "cell_type": "code",
   "execution_count": 2,
   "metadata": {},
   "outputs": [
    {
     "name": "stdout",
     "output_type": "stream",
     "text": [
      "<callable_iterator object at 0x0000020676293E48>\n",
      "<re.Match object; span=(66, 68), match='Ha'>\n",
      "<re.Match object; span=(69, 71), match='Ha'>\n"
     ]
    }
   ],
   "source": [
    "pattern = re.compile(r'\\bHa')\n",
    "matchs = pattern.finditer(text_to_search)\n",
    "print(matchs)\n",
    "for m in matchs:\n",
    "    print(m)"
   ]
  },
  {
   "cell_type": "code",
   "execution_count": 20,
   "metadata": {},
   "outputs": [
    {
     "name": "stdout",
     "output_type": "stream",
     "text": [
      "Ha Ha\n"
     ]
    }
   ],
   "source": [
    "print(text_to_search[66:68],text_to_search[69:71])"
   ]
  },
  {
   "cell_type": "code",
   "execution_count": 5,
   "metadata": {},
   "outputs": [
    {
     "name": "stdout",
     "output_type": "stream",
     "text": [
      "<callable_iterator object at 0x00000206762A8278>\n"
     ]
    }
   ],
   "source": [
    "#\n",
    "\n",
    "pattern = re.compile(r'^the')\n",
    "matchs = pattern.finditer(sentence)\n",
    "for m in matchs:\n",
    "    print(m)"
   ]
  },
  {
   "cell_type": "code",
   "execution_count": 52,
   "metadata": {},
   "outputs": [
    {
     "name": "stdout",
     "output_type": "stream",
     "text": [
      "<re.Match object; span=(1, 24), match='CoreyMschafer@gmail.com'>\n",
      "<re.Match object; span=(25, 53), match='corey.schafer@university.edu'>\n",
      "<re.Match object; span=(54, 83), match='corey-321-schafer@my-work.net'>\n"
     ]
    }
   ],
   "source": [
    "import re\n",
    "emails='''\n",
    "CoreyMschafer@gmail.com\n",
    "corey.schafer@university.edu\n",
    "corey-321-schafer@my-work.net\n",
    "\n",
    "'''\n",
    "\n",
    "pattern = re.compile(r'[a-zA-Z0-9-._+]+@[a-zA-Z0-9-.]+\\.\\w{1,3}')\n",
    "matches = pattern.finditer(emails)\n",
    "\n",
    "for match in matches:\n",
    "    print(match)\n",
    "\n",
    "\n"
   ]
  },
  {
   "cell_type": "code",
   "execution_count": 69,
   "metadata": {},
   "outputs": [
    {
     "name": "stdout",
     "output_type": "stream",
     "text": [
      "('https://', 'www.', 'google', '.com')\n",
      "('http://', '', 'coreyms', '.com')\n",
      "('https://', '', 'youtube', '.com')\n",
      "('https://', 'www.', 'nasa', '.gov')\n"
     ]
    }
   ],
   "source": [
    "import re\n",
    "\n",
    "urls = '''\n",
    "https://www.google.com\n",
    "http://coreyms.com\n",
    "https://youtube.com\n",
    "https://www.nasa.gov\n",
    "\n",
    "'''\n",
    "pattern = re.compile(r'(https://|http://)(www\\.)?(\\w+)(\\.\\w{1,3})')\n",
    "matches = pattern.findall(urls)\n",
    "\n",
    "for match in matches:\n",
    "    print(match)\n",
    "\n",
    "\n"
   ]
  },
  {
   "cell_type": "code",
   "execution_count": 6,
   "metadata": {},
   "outputs": [
    {
     "name": "stdout",
     "output_type": "stream",
     "text": [
      "1\n",
      "2\n",
      "3\n",
      "7\n",
      "j\n",
      "89\n"
     ]
    }
   ],
   "source": [
    "s1 = {2,3,\"j\",1,7,89}\n",
    "s1\n",
    "for i in s1:\n",
    "    print(i)"
   ]
  },
  {
   "cell_type": "code",
   "execution_count": 88,
   "metadata": {},
   "outputs": [
    {
     "name": "stdout",
     "output_type": "stream",
     "text": [
      "('Bruce', 'Hulk')\n",
      "('Clark', 'Superman')\n",
      "('Petar', 'Spiderman')\n",
      "('Logan', 'Wolverine')\n",
      "('Wade', 'Deadpool')\n",
      "{'Bruce': 'Hulk', 'Clark': 'Superman', 'Petar': 'Spiderman', 'Logan': 'Wolverine', 'Wade': 'Deadpool'}\n"
     ]
    }
   ],
   "source": [
    "names = [\"Bruce\",\"Clark\",\"Petar\",\"Logan\",\"Wade\"]\n",
    "heros = [\"Hulk\",\"Superman\",\"Spiderman\",\"Wolverine\",\"Deadpool\"]\n",
    "d = dict(zip(names,heros))\n",
    "for i in d.items():\n",
    "    print((i))\n",
    "print(d)\n"
   ]
  },
  {
   "cell_type": "code",
   "execution_count": 89,
   "metadata": {},
   "outputs": [
    {
     "name": "stdout",
     "output_type": "stream",
     "text": [
      "{'Bruce': 'Hulk', 'Clark': 'Superman', 'Petar': 'Spiderman', 'Logan': 'Wolverine', 'Wade': 'Deadpool'}\n"
     ]
    }
   ],
   "source": [
    "print({name:hero for name,hero in zip(names,heros)})"
   ]
  },
  {
   "cell_type": "code",
   "execution_count": 90,
   "metadata": {},
   "outputs": [
    {
     "name": "stdout",
     "output_type": "stream",
     "text": [
      "{'Bruce': 'Hulk', 'Clark': 'Superman', 'Petar': 'Spiderman', 'Logan': 'Wolverine', 'Wade': 'Deadpool'}\n"
     ]
    }
   ],
   "source": [
    "# i want a dict('name':'hero') for each name,hero in zip(names,heros)\n",
    "my_d={name:hero for name,hero in zip(names,heros)}\n",
    "print(my_d)"
   ]
  },
  {
   "cell_type": "code",
   "execution_count": 94,
   "metadata": {},
   "outputs": [
    {
     "name": "stdout",
     "output_type": "stream",
     "text": [
      "{'Bruce': 'Hulk', 'Clark': 'Superman', 'Logan': 'Wolverine', 'Wade': 'Deadpool'}\n"
     ]
    }
   ],
   "source": [
    "# If nmae not equal to Petar\n",
    "\n",
    "my_d={name:hero for name,hero in zip(names,heros) if name!=\"Petar\"}\n",
    "print(my_d)"
   ]
  },
  {
   "cell_type": "code",
   "execution_count": 97,
   "metadata": {},
   "outputs": [
    {
     "name": "stdout",
     "output_type": "stream",
     "text": [
      "1\n",
      "2\n",
      "Fizz\n",
      "4\n",
      "Buzz\n",
      "Fizz\n",
      "7\n",
      "8\n",
      "Fizz\n",
      "Buzz\n",
      "11\n",
      "Fizz\n",
      "13\n",
      "14\n",
      "FizzBuzz\n",
      "16\n",
      "17\n",
      "Fizz\n",
      "19\n",
      "Buzz\n",
      "Fizz\n",
      "22\n",
      "23\n",
      "Fizz\n",
      "Buzz\n"
     ]
    }
   ],
   "source": [
    "#fizz Buzz\n",
    "for num in range(1,26):\n",
    "    if num%5==0 and num%3==0:\n",
    "        print(\"FizzBuzz\")\n",
    "    elif num%3==0:\n",
    "        print(\"Fizz\")\n",
    "    elif num%5==0:\n",
    "        print(\"Buzz\")\n",
    "    else:\n",
    "        print(num)\n",
    "        \n",
    "        "
   ]
  },
  {
   "cell_type": "code",
   "execution_count": 4,
   "metadata": {},
   "outputs": [
    {
     "name": "stdout",
     "output_type": "stream",
     "text": [
      "Enter the range: 10\n",
      "0\n",
      "1\n",
      "1\n",
      "2\n",
      "3\n",
      "5\n",
      "8\n",
      "13\n",
      "21\n",
      "34\n"
     ]
    }
   ],
   "source": [
    "#fibonacci sequence\n",
    "x = int(input(\"Enter the range: \"))\n",
    "a,b=0,1\n",
    "for i in range(0,x):\n",
    "    print(a)\n",
    "    a,b = b,a+b\n"
   ]
  }
 ],
 "metadata": {
  "kernelspec": {
   "display_name": "Python 3",
   "language": "python",
   "name": "python3"
  },
  "language_info": {
   "codemirror_mode": {
    "name": "ipython",
    "version": 3
   },
   "file_extension": ".py",
   "mimetype": "text/x-python",
   "name": "python",
   "nbconvert_exporter": "python",
   "pygments_lexer": "ipython3",
   "version": "3.7.3"
  }
 },
 "nbformat": 4,
 "nbformat_minor": 2
}
