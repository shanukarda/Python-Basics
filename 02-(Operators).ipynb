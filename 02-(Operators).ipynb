{
 "cells": [
  {
   "cell_type": "code",
   "execution_count": null,
   "metadata": {},
   "outputs": [],
   "source": [
    "'''Operators\n",
    "\n",
    ">>Airthmatic operators\n",
    ">>> +,-,*,/,//,%,**>>>a=10,b=3 (a+b,a-b,a/b,a*b,a//b,a%b,a**b)\n",
    "\n",
    ">>Comparision(Relational) Operators\n",
    ">>>(<,>,>=,<=,==,!=)\n",
    "\n",
    ">>Assignment operator\n",
    ">>> (+=,-=,*=,/=,//=,%=)\n",
    "\n",
    ">>Identity Operator\n",
    ">>> (is, is not)\n",
    ">>>1.a=10\n",
    "     b=20\n",
    "     print(a is b)\n",
    "     (It will return the boolean value, in above case, it will print \"False\")\n",
    ">>>2.a=10\n",
    "     b=20\n",
    "     print(a is not b)\n",
    "     (It will return the boolean value, in above case, it will print \"True\")\n",
    "     \n",
    ">>Membership Operator\n",
    ">>>> (in, not in)\n",
    ">>>1.a=\"hi python\"\n",
    "     b=\"python\"\n",
    "     print(b in a)\n",
    "     (It will return the boolean value, in above case, it will print \"True\")     \n",
    ">>>2.a=\"hi python\"\n",
    "     b=\"python\"\n",
    "     print(b not in a)\n",
    "     (It will return the boolean value, in above case, it will print \"False\")\n",
    "     \n",
    "\n",
    "     \n",
    "\n",
    "     \n",
    "'''"
   ]
  },
  {
   "cell_type": "code",
   "execution_count": 2,
   "metadata": {},
   "outputs": [
    {
     "name": "stdout",
     "output_type": "stream",
     "text": [
      "3\n"
     ]
    }
   ],
   "source": [
    "a=10\n",
    "b=3\n",
    "print(a//b)"
   ]
  },
  {
   "cell_type": "code",
   "execution_count": 3,
   "metadata": {},
   "outputs": [
    {
     "data": {
      "text/plain": [
       "True"
      ]
     },
     "execution_count": 3,
     "metadata": {},
     "output_type": "execute_result"
    }
   ],
   "source": [
    "a=30\n",
    "b=20\n",
    "a>b\n"
   ]
  },
  {
   "cell_type": "code",
   "execution_count": 11,
   "metadata": {},
   "outputs": [
    {
     "name": "stdout",
     "output_type": "stream",
     "text": [
      "33\n"
     ]
    }
   ],
   "source": [
    "a=30\n",
    "a+=3\n",
    "print(a)"
   ]
  },
  {
   "cell_type": "code",
   "execution_count": 8,
   "metadata": {},
   "outputs": [
    {
     "data": {
      "text/plain": [
       "True"
      ]
     },
     "execution_count": 8,
     "metadata": {},
     "output_type": "execute_result"
    }
   ],
   "source": [
    "a=30\n",
    "b=40\n",
    "a is not b"
   ]
  },
  {
   "cell_type": "code",
   "execution_count": 10,
   "metadata": {},
   "outputs": [
    {
     "name": "stdout",
     "output_type": "stream",
     "text": [
      "False\n"
     ]
    }
   ],
   "source": [
    "a=10\n",
    "b=20\n",
    "print(a is b)"
   ]
  },
  {
   "cell_type": "code",
   "execution_count": 12,
   "metadata": {},
   "outputs": [
    {
     "name": "stdout",
     "output_type": "stream",
     "text": [
      "False\n"
     ]
    }
   ],
   "source": [
    "a=\"hi python\"\n",
    "b=\"python\"\n",
    "print(b not in a)"
   ]
  },
  {
   "cell_type": "code",
   "execution_count": 15,
   "metadata": {},
   "outputs": [
    {
     "name": "stdout",
     "output_type": "stream",
     "text": [
      "Enter MRP: 100\n",
      "Enter discount on MRP:- 20\n",
      "Price after discount 80.0\n"
     ]
    }
   ],
   "source": [
    "#Type Casting\n",
    "\n",
    "mrp=input(\"Enter MRP: \")\n",
    "dis=input(\"Enter discount on MRP:- \")\n",
    "final_price = int(mrp)-(int(mrp)*int(dis)/100)\n",
    "print(\"Price after discount\",final_price)\n"
   ]
  },
  {
   "cell_type": "code",
   "execution_count": 17,
   "metadata": {},
   "outputs": [
    {
     "name": "stdout",
     "output_type": "stream",
     "text": [
      "Enter the amount:45\n",
      "<class 'str'>\n",
      "<class 'int'>\n"
     ]
    }
   ],
   "source": [
    "amount=input(\"Enter the amount:\")\n",
    "print(type(amount))\n",
    "amount=int(amount)\n",
    "print(type(amount))"
   ]
  },
  {
   "cell_type": "code",
   "execution_count": 19,
   "metadata": {},
   "outputs": [
    {
     "name": "stdout",
     "output_type": "stream",
     "text": [
      "Enter your name: rohit\n",
      "<class 'str'>\n",
      "Enter a number: 50\n",
      "<class 'str'>\n",
      "Enter one more number: 40\n",
      "5040\n"
     ]
    }
   ],
   "source": [
    "name=input(\"Enter your name: \")\n",
    "print(type(name))\n",
    "num1 = input(\"Enter a number: \")\n",
    "print(type(num1))\n",
    "num2 = input(\"Enter one more number: \")\n",
    "print(num1+num2)"
   ]
  },
  {
   "cell_type": "code",
   "execution_count": 21,
   "metadata": {},
   "outputs": [
    {
     "name": "stdout",
     "output_type": "stream",
     "text": [
      "Enter a number: 50\n",
      "<class 'int'>\n",
      "Enter one more number: 30\n",
      "80\n",
      "<class 'str'>\n"
     ]
    }
   ],
   "source": [
    "num1 = int(input(\"Enter a number: \"))\n",
    "print(type(num1))\n",
    "num2 = int(input(\"Enter one more number: \"))\n",
    "print(num1+num2)\n",
    "num2=float(num2)\n",
    "print(type(num2))"
   ]
  },
  {
   "cell_type": "code",
   "execution_count": null,
   "metadata": {},
   "outputs": [],
   "source": [
    "''' Control Flow:- if,else,elif\n",
    "Always, One block will be executed at one time.\n",
    "'''"
   ]
  },
  {
   "cell_type": "code",
   "execution_count": 22,
   "metadata": {
    "scrolled": true
   },
   "outputs": [
    {
     "name": "stdout",
     "output_type": "stream",
     "text": [
      "b is greater\n"
     ]
    }
   ],
   "source": [
    "# if-else\n",
    "\n",
    "a=30\n",
    "b=40\n",
    "if a>b:\n",
    "    print(\"a is greater.\")\n",
    "else:\n",
    "    print(\"b is greater\")"
   ]
  },
  {
   "cell_type": "code",
   "execution_count": 23,
   "metadata": {},
   "outputs": [
    {
     "ename": "IndentationError",
     "evalue": "expected an indented block (<ipython-input-23-50fe8461407d>, line 4)",
     "output_type": "error",
     "traceback": [
      "\u001b[1;36m  File \u001b[1;32m\"<ipython-input-23-50fe8461407d>\"\u001b[1;36m, line \u001b[1;32m4\u001b[0m\n\u001b[1;33m    print(\"a is greater.\")\u001b[0m\n\u001b[1;37m        ^\u001b[0m\n\u001b[1;31mIndentationError\u001b[0m\u001b[1;31m:\u001b[0m expected an indented block\n"
     ]
    }
   ],
   "source": [
    "#indentationError:- In python after every block we have give one tab space or 4 single spaces.\n",
    "#other wise program will give indentationError.\n",
    "\n",
    "a=30\n",
    "b=40\n",
    "if a>b:\n",
    "print(\"a is greater.\")\n",
    "else:\n",
    "    print(\"b is greater\")"
   ]
  },
  {
   "cell_type": "code",
   "execution_count": 25,
   "metadata": {},
   "outputs": [
    {
     "name": "stdout",
     "output_type": "stream",
     "text": [
      "a is 20.\n"
     ]
    }
   ],
   "source": [
    "#if-elif-else\n",
    "\n",
    "a=20\n",
    "b=40\n",
    "if a>b:\n",
    "    print(\"a is greater.\")\n",
    "elif a==20:\n",
    "    print(\"a is 20.\")\n",
    "else:\n",
    "    print(\"b is greater\")"
   ]
  },
  {
   "cell_type": "code",
   "execution_count": 27,
   "metadata": {},
   "outputs": [
    {
     "name": "stdout",
     "output_type": "stream",
     "text": [
      "50\n",
      "end\n"
     ]
    }
   ],
   "source": [
    "# with one 'if' you can have multiple 'elif' and single 'else', you can not use 'elif' alone. 'elif' should be followed by 'if'.\n",
    "# whenever any block will get True then rest block will not be executed.\n",
    "a=50\n",
    "b=60\n",
    "if a==50:\n",
    "    print(50)\n",
    "elif a==50:\n",
    "    print(40)\n",
    "elif a>30:\n",
    "    print(60)\n",
    "else:\n",
    "    print(b)\n",
    "print(\"end\")"
   ]
  },
  {
   "cell_type": "code",
   "execution_count": null,
   "metadata": {},
   "outputs": [],
   "source": [
    "#nested if-else\n",
    "\n",
    "a=30\n",
    "b=50\n",
    "if a>=30:\n",
    "    print(a)\n",
    "    if a==30:\n",
    "        print(\"a is 30.\")\n",
    "    else:\n",
    "        print(\"a is not 30\")\n",
    "else:\n",
    "    print(\"a is not 30\")\n",
    "    if a==30:\n",
    "        print(a)\n",
    "        "
   ]
  },
  {
   "cell_type": "code",
   "execution_count": 28,
   "metadata": {},
   "outputs": [
    {
     "name": "stdout",
     "output_type": "stream",
     "text": [
      "Enter your age: 15\n",
      "You are not eligible for voting.\n"
     ]
    }
   ],
   "source": [
    "#Exercise:- Take input age from user and print whether he is eligible for voting or not. \n",
    "\n",
    "age=int(input(\"Enter your age: \"))\n",
    "if age>=18:\n",
    "    print(\"You are eligible for voting.\")\n",
    "else:\n",
    "    print(\"You are not eligible for voting.\")"
   ]
  },
  {
   "cell_type": "code",
   "execution_count": 30,
   "metadata": {},
   "outputs": [
    {
     "name": "stdout",
     "output_type": "stream",
     "text": [
      "Single and ready to mingle.\n"
     ]
    }
   ],
   "source": [
    "#exercise\n",
    "\n",
    "name=\"Ram\"\n",
    "love=\"Sheela\"\n",
    "love1=\"munni\"\n",
    "love3=\"tina\"\n",
    "\n",
    "if name==\"Ram\":\n",
    "    if love==\"Sheela1\":\n",
    "        print(\"Ram loves Sheela.\")\n",
    "    elif love1==\"munni1\":\n",
    "        print(\"Ram loves Munni\")\n",
    "    elif love3==\"tina1\":\n",
    "        print(\"Ram loves Tina\")\n",
    "    else:\n",
    "        print(\"Single and ready to mingle.\")\n",
    "else:\n",
    "    print(\"Match not found.\")"
   ]
  },
  {
   "cell_type": "code",
   "execution_count": 36,
   "metadata": {},
   "outputs": [
    {
     "name": "stdout",
     "output_type": "stream",
     "text": [
      "Enter a number: 28\n",
      "13\n"
     ]
    }
   ],
   "source": [
    "#Assignement for home---done in class\n",
    "'''Take a number from user, if this number if '''\n",
    "\n",
    "num1=int(input(\"Enter a number: \"))\n",
    "if num1 > 30:\n",
    "    num1-=2\n",
    "    print(num1**2)\n",
    "else:\n",
    "    num1-=2\n",
    "    num1=num1/2\n",
    "    print(int(num1))\n"
   ]
  },
  {
   "cell_type": "code",
   "execution_count": 1,
   "metadata": {},
   "outputs": [
    {
     "name": "stdout",
     "output_type": "stream",
     "text": [
      "Enter your name: Maninder\n",
      "Enter your Phone Number: 9592850384\n",
      "Enter your total purchase amount: 5000\n",
      "Total amount after discount:  4000\n"
     ]
    }
   ],
   "source": [
    "#Assignment for home\n",
    "'''take input from user name,ph number, total amount. if user purchase=3000 then dis=10%, purchase=5000 then dis=20%, \n",
    "purchase = 10000 then discount =35%'''\n",
    "name=input(\"Enter your name: \")\n",
    "ph_number=input(\"Enter your Phone Number: \")\n",
    "amount=int(input(\"Enter your total purchase amount: \"))\n",
    "if amount>=3000:\n",
    "    if amount < 5000:\n",
    "        dis=10\n",
    "    else:\n",
    "        if amount < 10000:\n",
    "            dis = 20\n",
    "        else:\n",
    "            dis = 35\n",
    "else:\n",
    "    dis = 0\n",
    "print(\"Total amount after discount: \",int(amount-(amount*dis/100)))"
   ]
  },
  {
   "cell_type": "code",
   "execution_count": null,
   "metadata": {},
   "outputs": [],
   "source": []
  }
 ],
 "metadata": {
  "kernelspec": {
   "display_name": "Python 3",
   "language": "python",
   "name": "python3"
  },
  "language_info": {
   "codemirror_mode": {
    "name": "ipython",
    "version": 3
   },
   "file_extension": ".py",
   "mimetype": "text/x-python",
   "name": "python",
   "nbconvert_exporter": "python",
   "pygments_lexer": "ipython3",
   "version": "3.7.3"
  }
 },
 "nbformat": 4,
 "nbformat_minor": 2
}
