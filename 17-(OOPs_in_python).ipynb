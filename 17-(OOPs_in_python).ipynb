{
 "cells": [
  {
   "cell_type": "code",
   "execution_count": 14,
   "metadata": {},
   "outputs": [
    {
     "name": "stdout",
     "output_type": "stream",
     "text": [
      "73.0\n",
      "48.0\n",
      "PAU\n",
      "this is static method.\n",
      "None\n"
     ]
    }
   ],
   "source": [
    "#Types of methods in OOPs\n",
    "\n",
    "class Student:\n",
    "    # Class creation\n",
    "    school = \"PAU\"\n",
    "    def __init__(self,m1,m2,m3):\n",
    "        self.mark1 = m1\n",
    "        self.mark2 = m2\n",
    "        self.mark3 = m3\n",
    "\n",
    "    def avg(self):\n",
    "        return (self.mark1+self.mark2+self.mark3)/3\n",
    "\n",
    "    @classmethod\n",
    "    def getschool(cls):\n",
    "        return cls.school\n",
    "\n",
    "    @staticmethod\n",
    "    def info():\n",
    "        print(\"this is static method.\")\n",
    "\n",
    "\n",
    "s1 = Student(78,96,45) # Object creation\n",
    "s2 = Student(45,43,56)\n",
    "\n",
    "print(s1.avg())\n",
    "print(s2.avg())\n",
    "print(Student.getschool())\n",
    "\n",
    "print(Student.info())"
   ]
  },
  {
   "cell_type": "code",
   "execution_count": 2,
   "metadata": {},
   "outputs": [
    {
     "name": "stdout",
     "output_type": "stream",
     "text": [
      "Maninder 21\n",
      "Shanu 4\n",
      "i7 Dell 8\n"
     ]
    }
   ],
   "source": [
    "# Inner class(a class in a class)\n",
    "\n",
    "class Student:\n",
    "\n",
    "    def __init__(self,name,rollno):\n",
    "        self.name = name\n",
    "        self.roll = rollno\n",
    "        self.lap = self.Laptop()\n",
    "\n",
    "    def show(self):\n",
    "        print(self.name,self.roll)\n",
    "        self.lap.show()\n",
    "\n",
    "    class Laptop:\n",
    "        def __init__(self):\n",
    "            self.brand = \"Dell\"\n",
    "            self.CPU = \"i7\"\n",
    "            self.Ram = 8\n",
    "        def show(self):\n",
    "            print(self.CPU,self.brand,self.Ram)\n",
    "\n",
    "s1 = Student(\"Shanu\",4)\n",
    "s2 = Student(\"Maninder\",21)\n",
    "\n",
    "print(s2.name,s2.roll)\n",
    "s1.show()"
   ]
  },
  {
   "cell_type": "code",
   "execution_count": 3,
   "metadata": {},
   "outputs": [
    {
     "name": "stdout",
     "output_type": "stream",
     "text": [
      "Tom\n"
     ]
    }
   ],
   "source": [
    "# Inheritance\n",
    "# Single Level Inheritance\n",
    "class father: #super/parent class\n",
    "    def sex(self):\n",
    "        print(\"male\")\n",
    "    def Name(self):\n",
    "        print(\"Tom\")\n",
    "\n",
    "\n",
    "class son(father): #sub/child class\n",
    "    def job(self):\n",
    "        print(\"student\")\n",
    "    def school(self):\n",
    "        print(\"PAU\")\n",
    "\n",
    "s1 = son()\n",
    "s1.Name()"
   ]
  },
  {
   "cell_type": "code",
   "execution_count": 4,
   "metadata": {},
   "outputs": [
    {
     "name": "stdout",
     "output_type": "stream",
     "text": [
      "Tom\n",
      "Tom\n"
     ]
    }
   ],
   "source": [
    "# Inheritance\n",
    "# Multi Level Inheritance\n",
    "class father: # Super/parent class for son class and daughter class\n",
    "    def sex(self):\n",
    "        print(\"male\")\n",
    "    def Name(self):\n",
    "        print(\"Tom\")\n",
    "\n",
    "\n",
    "class son(father): # sub/child class of father class\n",
    "    def job(self):\n",
    "        print(\"student\")\n",
    "    def school(self):\n",
    "        print(\"PAU\")\n",
    "\n",
    "class daughter(son): # daughter is child class of son class and father class\n",
    "    def husband(self):\n",
    "        print(\"only daughter should have husband.\")\n",
    "\n",
    "\n",
    "s1 = son()\n",
    "s1.Name()\n",
    "\n",
    "d1 = daughter()\n",
    "d1.Name() #d1/daughter class is also child class of father class by refers from son class\n",
    "# (as son class is child class of father class)"
   ]
  },
  {
   "cell_type": "code",
   "execution_count": 5,
   "metadata": {},
   "outputs": [
    {
     "name": "stdout",
     "output_type": "stream",
     "text": [
      "student\n",
      "Tom\n"
     ]
    }
   ],
   "source": [
    "# Inheritance\n",
    "# Multiple Inheritance\n",
    "class father: # Super/parent class for daughter class\n",
    "    def sex(self):\n",
    "        print(\"male\")\n",
    "    def Name(self):\n",
    "        print(\"Tom\")\n",
    "\n",
    "\n",
    "class son: # Super/parent class for daughter class\n",
    "    def job(self):\n",
    "        print(\"student\")\n",
    "    def school(self):\n",
    "        print(\"PAU\")\n",
    "\n",
    "class daughter(father,son): # daughter is child class of father class and son class\n",
    "    def husband(self):\n",
    "        print(\"only daughter should have husband.\")\n",
    "\n",
    "\n",
    "\n",
    "d1 = daughter()\n",
    "d1.job() #d1/daughter class is child class of father class and son class\n",
    "d1.Name() #d1/daughter class is child class of father class and son class"
   ]
  },
  {
   "cell_type": "code",
   "execution_count": 6,
   "metadata": {},
   "outputs": [
    {
     "name": "stdout",
     "output_type": "stream",
     "text": [
      "In son class.\n",
      "In father class.\n"
     ]
    }
   ],
   "source": [
    "# Constructor in Inheritance -> init methods.\n",
    "class father: # Super/parent class can't access any features of sub class.\n",
    "    def __init__(self):\n",
    "        print(\"In father class.\")\n",
    "    def sex(self):\n",
    "        print(\"male\")\n",
    "    def Name(self):\n",
    "        print(\"Tom\")\n",
    "\n",
    "class son(father): # sub class can access all the features of Super class.\n",
    "    def __init__(self): # if we create object of sub class it will first try to find init of sub class.\n",
    "        # if it is not found then it will call init of Super class\n",
    "        print(\"In son class.\")\n",
    "        super().__init__() # also we can call super class init if we create init in sub class.\n",
    "        #When you create object of sub class it will call init of sub class first,\n",
    "        # if you have call super then it will call init super class\n",
    "    def job(self):\n",
    "        print(\"student\")\n",
    "    def school(self):\n",
    "        print(\"PAU\")\n",
    "\n",
    "f1 = son()"
   ]
  },
  {
   "cell_type": "code",
   "execution_count": 7,
   "metadata": {},
   "outputs": [
    {
     "name": "stdout",
     "output_type": "stream",
     "text": [
      "In father class.\n",
      "Mohan\n"
     ]
    }
   ],
   "source": [
    "# MRO - Method Resolution Order\n",
    "# MRO means-> In python, flow of execution is going from left to right always.\n",
    "class father:\n",
    "    def __init__(self):\n",
    "        print(\"In father class.\")\n",
    "    def sex(self):\n",
    "        print(\"male\")\n",
    "    def Name(self):\n",
    "        print(\"Mohan\")\n",
    "\n",
    "class son():\n",
    "    def __init__(self):\n",
    "        print(\"In son class.\")\n",
    "    def Name(self):\n",
    "        print(\"Sohan\")\n",
    "    def job(self):\n",
    "        print(\"student\")\n",
    "    def school(self):\n",
    "        print(\"PAU\")\n",
    "\n",
    "class daughter(father,son): # daughter is child class of father class and son class\n",
    "    def husband(self):\n",
    "        print(\"only daughter should have husband.\")\n",
    "\n",
    "\n",
    "d1 = daughter() # Here it will execute father class init because father is first from left when we define class.\n",
    "d1.Name() # Here it will take name method from father, reason same as above.\n",
    "# Class daughter take execution from left to right.\n",
    "#  Because in defining class (class daughter(father,son)), We placed father first from left."
   ]
  },
  {
   "cell_type": "code",
   "execution_count": 1,
   "metadata": {},
   "outputs": [
    {
     "name": "stdout",
     "output_type": "stream",
     "text": [
      "DOS Compilingggg\n",
      "Runningggg\n",
      "Runningggg and Running\n",
      "\n",
      "Pycharm Compiling\n",
      "Running\n"
     ]
    }
   ],
   "source": [
    "# Polymorphism -> Many forms\n",
    "# Duck Typing in Polymorphism\n",
    "\n",
    "class Pycharm:\n",
    "    def execute(self):\n",
    "        print(\"\\nPycharm Compiling\")\n",
    "        print(\"Running\")\n",
    "\n",
    "class DOS:\n",
    "    def execute(self):\n",
    "        print(\"DOS Compilingggg\")\n",
    "        print(\"Runningggg\")\n",
    "        print(\"Runningggg and Running\")\n",
    "class Laptop:\n",
    "    def code(self,soft):\n",
    "        soft.execute()\n",
    "\n",
    "d = DOS()\n",
    "laptop1 = Laptop()\n",
    "laptop1.code(d)\n",
    "\n",
    "d = Pycharm()\n",
    "laptop1.code(d)"
   ]
  },
  {
   "cell_type": "code",
   "execution_count": 9,
   "metadata": {},
   "outputs": [
    {
     "name": "stdout",
     "output_type": "stream",
     "text": [
      "156\n",
      "s2 wins\n",
      "78 59\n"
     ]
    }
   ],
   "source": [
    "# Operator overloading in python\n",
    "\n",
    "class Student:\n",
    "\n",
    "    def __init__(self,marks1,marks2):\n",
    "        self.m1 = marks1\n",
    "        self.m2 = marks2\n",
    "\n",
    "    def __add__(self, other):\n",
    "        p1 = self.m1 + other.m1\n",
    "        p2 = self.m2 + other.m2\n",
    "        p3 = Student(p1,p2)\n",
    "\n",
    "        return p3\n",
    "\n",
    "    def __gt__(self, other):\n",
    "        r1 = self.m1 + self.m2\n",
    "        r2 = other.m1 + other.m2\n",
    "        if r1 > r2:\n",
    "            return True\n",
    "        else:\n",
    "            return False\n",
    "    def __str__(self):\n",
    "        return \"{} {}\".format(self.m1,self.m2)\n",
    "\n",
    "s1 = Student(78,59)\n",
    "s2 = Student(78,59)\n",
    "\n",
    "s3 = s1 + s2\n",
    "print(s3.m1) #After operater overloading add() method\n",
    "\n",
    "if s1 > s2: #after operator overloading gt() method\n",
    "    print(\"s1 wins\")\n",
    "else:\n",
    "    print(\"s2 wins\")\n",
    "\n",
    "print(s1) #after operator overloading str() method"
   ]
  },
  {
   "cell_type": "code",
   "execution_count": 10,
   "metadata": {},
   "outputs": [
    {
     "name": "stdout",
     "output_type": "stream",
     "text": [
      "89\n"
     ]
    }
   ],
   "source": [
    "# Method overloading\n",
    "class Student:\n",
    "\n",
    "    def __init__(self,marks1,marks2):\n",
    "        self.m1 = marks1\n",
    "        self.m2 = marks2\n",
    "\n",
    "    def sum(self,a=None,b=None,c=None):\n",
    "        s=0\n",
    "        if a!=None and b!=None and c!=None:\n",
    "            s=a+b+c\n",
    "        elif a!=None and b!=None:\n",
    "            s = a+b\n",
    "        else:\n",
    "            s=a\n",
    "        return s\n",
    "\n",
    "\n",
    "s1 = Student(78,59)\n",
    "\n",
    "print(s1.sum(45,21,23))"
   ]
  },
  {
   "cell_type": "code",
   "execution_count": 11,
   "metadata": {},
   "outputs": [
    {
     "name": "stdout",
     "output_type": "stream",
     "text": [
      "In the b show\n"
     ]
    }
   ],
   "source": [
    "#Method overriding\n",
    "\n",
    "class A:\n",
    "\n",
    "    def show(self):\n",
    "        print(\"In a Show\")\n",
    "\n",
    "class B(A):\n",
    "    def show(self):\n",
    "        print(\"In the b show\")\n",
    "\n",
    "\n",
    "\n",
    "a1 = B()\n",
    "a1.show()\n"
   ]
  },
  {
   "cell_type": "code",
   "execution_count": 12,
   "metadata": {},
   "outputs": [
    {
     "name": "stdout",
     "output_type": "stream",
     "text": [
      "Hello\n",
      "Hi\n",
      "Hello\n",
      "Hi\n",
      "Hello\n",
      "Hi\n",
      "Hello\n",
      "Hi\n",
      "Hello\n",
      "Hi\n",
      "bye\n"
     ]
    }
   ],
   "source": [
    "# Multi Threading\n",
    "from time import sleep\n",
    "from threading import *\n",
    "class Hello(Thread):\n",
    "    def run(self):\n",
    "        for e in range(5):\n",
    "            print(\"Hello\")\n",
    "            sleep(1)\n",
    "\n",
    "\n",
    "class Hi(Thread):\n",
    "    def run(self):\n",
    "        for e in range(5):\n",
    "            print(\"Hi\")\n",
    "            sleep(1)\n",
    "\n",
    "obj1 = Hello()\n",
    "obj2 = Hi()\n",
    "\n",
    "obj1.start()\n",
    "sleep(0.3)\n",
    "obj2.start()\n",
    "\n",
    "obj1.join() #try program after remove this \"obj1.join()\"\n",
    "obj2.join() #try program after remove this \"obj2.join()\"\n",
    "print(\"bye\")"
   ]
  },
  {
   "cell_type": "code",
   "execution_count": null,
   "metadata": {},
   "outputs": [],
   "source": []
  }
 ],
 "metadata": {
  "kernelspec": {
   "display_name": "Python 3",
   "language": "python",
   "name": "python3"
  },
  "language_info": {
   "codemirror_mode": {
    "name": "ipython",
    "version": 3
   },
   "file_extension": ".py",
   "mimetype": "text/x-python",
   "name": "python",
   "nbconvert_exporter": "python",
   "pygments_lexer": "ipython3",
   "version": "3.7.3"
  }
 },
 "nbformat": 4,
 "nbformat_minor": 1
}
