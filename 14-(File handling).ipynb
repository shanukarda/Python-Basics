{
 "cells": [
  {
   "cell_type": "markdown",
   "metadata": {},
   "source": [
    "## File Handling"
   ]
  },
  {
   "cell_type": "code",
   "execution_count": 19,
   "metadata": {},
   "outputs": [
    {
     "name": "stdout",
     "output_type": "stream",
     "text": [
      "<_io.TextIOWrapper name='D:/Name.txt' mode='r' encoding='cp1252'>\n",
      "<class '_io.TextIOWrapper'>\n"
     ]
    }
   ],
   "source": [
    "var = open(\"D:/Name.txt\",\"r\")\n",
    "print(var)\n",
    "print(type(var))"
   ]
  },
  {
   "cell_type": "code",
   "execution_count": 17,
   "metadata": {},
   "outputs": [
    {
     "name": "stdout",
     "output_type": "stream",
     "text": [
      "Shanu\n",
      "Maninder\n",
      "sham\n",
      "Ram\n",
      "Tej Pal\n",
      "Ram Lal\n",
      "Thakur\n"
     ]
    }
   ],
   "source": [
    "var = open(\"D:/Name.txt\",\"r\")\n",
    "print(var.read())"
   ]
  },
  {
   "cell_type": "code",
   "execution_count": 21,
   "metadata": {},
   "outputs": [
    {
     "name": "stdout",
     "output_type": "stream",
     "text": [
      "<class 'str'>\n",
      "Shanu\n",
      "Maninder\n",
      "sham\n",
      "Ram\n",
      "Tej Pal\n",
      "Ram Lal\n",
      "Thakur\n"
     ]
    }
   ],
   "source": [
    "var = open(\"D:/Name.txt\",\"r\")\n",
    "data = var.read()\n",
    "print(type(data))\n",
    "print(data)"
   ]
  },
  {
   "cell_type": "code",
   "execution_count": 22,
   "metadata": {},
   "outputs": [
    {
     "name": "stdout",
     "output_type": "stream",
     "text": [
      "<class 'list'>\n",
      "['Shanu\\n', 'Maninder\\n', 'sham\\n', 'Ram\\n', 'Tej Pal\\n', 'Ram Lal\\n', 'Thakur']\n"
     ]
    }
   ],
   "source": [
    "var = open(\"D:/Name.txt\",\"r\")\n",
    "data = var.readlines()\n",
    "print(type(data))\n",
    "print(data)"
   ]
  },
  {
   "cell_type": "code",
   "execution_count": 23,
   "metadata": {
    "scrolled": true
   },
   "outputs": [
    {
     "name": "stdout",
     "output_type": "stream",
     "text": [
      "<class 'str'>\n",
      "Shanu\n",
      "\n"
     ]
    }
   ],
   "source": [
    "var = open(\"D:/Name.txt\",\"r\")\n",
    "data = var.readline()\n",
    "print(type(data))\n",
    "print(data)"
   ]
  },
  {
   "cell_type": "code",
   "execution_count": 24,
   "metadata": {},
   "outputs": [
    {
     "ename": "FileNotFoundError",
     "evalue": "[Errno 2] No such file or directory: 'D:/Name2.txt'",
     "output_type": "error",
     "traceback": [
      "\u001b[1;31m---------------------------------------------------------------------------\u001b[0m",
      "\u001b[1;31mFileNotFoundError\u001b[0m                         Traceback (most recent call last)",
      "\u001b[1;32m<ipython-input-24-ad9e0deaeb25>\u001b[0m in \u001b[0;36m<module>\u001b[1;34m\u001b[0m\n\u001b[1;32m----> 1\u001b[1;33m \u001b[0mvar\u001b[0m \u001b[1;33m=\u001b[0m \u001b[0mopen\u001b[0m\u001b[1;33m(\u001b[0m\u001b[1;34m\"D:/Name2.txt\"\u001b[0m\u001b[1;33m,\u001b[0m\u001b[1;34m\"r\"\u001b[0m\u001b[1;33m)\u001b[0m\u001b[1;33m\u001b[0m\u001b[1;33m\u001b[0m\u001b[0m\n\u001b[0m",
      "\u001b[1;31mFileNotFoundError\u001b[0m: [Errno 2] No such file or directory: 'D:/Name2.txt'"
     ]
    }
   ],
   "source": [
    "var = open(\"D:/Name2.txt\",\"r\")"
   ]
  },
  {
   "cell_type": "code",
   "execution_count": 29,
   "metadata": {},
   "outputs": [
    {
     "name": "stdout",
     "output_type": "stream",
     "text": [
      "Enter the line number to print: 1\n",
      "Shanu\n",
      "\n"
     ]
    }
   ],
   "source": [
    "x = int(input(\"Enter the line number to print: \"))\n",
    "var = open(\"D:/Name.txt\",\"r\")\n",
    "data = var.readlines()\n",
    "if x > len(data):\n",
    "    print(\"Line Number is not exist.\")\n",
    "else:\n",
    "    print(data[x-1],end=\"\")"
   ]
  },
  {
   "cell_type": "code",
   "execution_count": 31,
   "metadata": {},
   "outputs": [
    {
     "name": "stdout",
     "output_type": "stream",
     "text": [
      "Enter the line number to print: 5\n",
      "Tej Pal\n"
     ]
    }
   ],
   "source": [
    "x = int(input(\"Enter the line number to print: \"))\n",
    "data = open(\"D:/Name.txt\",\"r\").readlines()\n",
    "if x > len(data):\n",
    "    print(\"Line Number is not exist.\")\n",
    "else:\n",
    "    print(data[x-1],end=\"\")"
   ]
  },
  {
   "cell_type": "code",
   "execution_count": 38,
   "metadata": {},
   "outputs": [
    {
     "name": "stdout",
     "output_type": "stream",
     "text": [
      "Enter the line number to print: 4\n",
      "Error while file reading.\n"
     ]
    },
    {
     "ename": "NameError",
     "evalue": "name 'data2' is not defined",
     "output_type": "error",
     "traceback": [
      "\u001b[1;31m---------------------------------------------------------------------------\u001b[0m",
      "\u001b[1;31mFileNotFoundError\u001b[0m                         Traceback (most recent call last)",
      "\u001b[1;32m<ipython-input-38-23ef6b866c5f>\u001b[0m in \u001b[0;36m<module>\u001b[1;34m\u001b[0m\n\u001b[0;32m      2\u001b[0m \u001b[1;32mtry\u001b[0m\u001b[1;33m:\u001b[0m\u001b[1;33m\u001b[0m\u001b[1;33m\u001b[0m\u001b[0m\n\u001b[1;32m----> 3\u001b[1;33m     \u001b[0mdata2\u001b[0m \u001b[1;33m=\u001b[0m \u001b[0mopen\u001b[0m\u001b[1;33m(\u001b[0m\u001b[1;34m\"D:/Name1.txt\"\u001b[0m\u001b[1;33m,\u001b[0m\u001b[1;34m\"r\"\u001b[0m\u001b[1;33m)\u001b[0m\u001b[1;33m.\u001b[0m\u001b[0mreadlines\u001b[0m\u001b[1;33m(\u001b[0m\u001b[1;33m)\u001b[0m\u001b[1;33m\u001b[0m\u001b[1;33m\u001b[0m\u001b[0m\n\u001b[0m\u001b[0;32m      4\u001b[0m \u001b[1;32mexcept\u001b[0m\u001b[1;33m:\u001b[0m\u001b[1;33m\u001b[0m\u001b[1;33m\u001b[0m\u001b[0m\n",
      "\u001b[1;31mFileNotFoundError\u001b[0m: [Errno 2] No such file or directory: 'D:/Name1.txt'",
      "\nDuring handling of the above exception, another exception occurred:\n",
      "\u001b[1;31mNameError\u001b[0m                                 Traceback (most recent call last)",
      "\u001b[1;32m<ipython-input-38-23ef6b866c5f>\u001b[0m in \u001b[0;36m<module>\u001b[1;34m\u001b[0m\n\u001b[0;32m      4\u001b[0m \u001b[1;32mexcept\u001b[0m\u001b[1;33m:\u001b[0m\u001b[1;33m\u001b[0m\u001b[1;33m\u001b[0m\u001b[0m\n\u001b[0;32m      5\u001b[0m     \u001b[0mprint\u001b[0m\u001b[1;33m(\u001b[0m\u001b[1;34m\"Error while file reading.\"\u001b[0m\u001b[1;33m)\u001b[0m\u001b[1;33m\u001b[0m\u001b[1;33m\u001b[0m\u001b[0m\n\u001b[1;32m----> 6\u001b[1;33m     \u001b[1;32mif\u001b[0m \u001b[0mx\u001b[0m \u001b[1;33m>\u001b[0m \u001b[0mlen\u001b[0m\u001b[1;33m(\u001b[0m\u001b[0mdata2\u001b[0m\u001b[1;33m)\u001b[0m\u001b[1;33m:\u001b[0m\u001b[1;33m\u001b[0m\u001b[1;33m\u001b[0m\u001b[0m\n\u001b[0m\u001b[0;32m      7\u001b[0m         \u001b[0mprint\u001b[0m\u001b[1;33m(\u001b[0m\u001b[1;34m\"Line Number is not exist.\"\u001b[0m\u001b[1;33m)\u001b[0m\u001b[1;33m\u001b[0m\u001b[1;33m\u001b[0m\u001b[0m\n\u001b[0;32m      8\u001b[0m     \u001b[1;32melse\u001b[0m\u001b[1;33m:\u001b[0m\u001b[1;33m\u001b[0m\u001b[1;33m\u001b[0m\u001b[0m\n",
      "\u001b[1;31mNameError\u001b[0m: name 'data2' is not defined"
     ]
    }
   ],
   "source": [
    "x = int(input(\"Enter the line number to print: \"))\n",
    "try:\n",
    "    data2 = open(\"D:/Name1.txt\",\"r\").readlines()\n",
    "except:\n",
    "    print(\"Error while file reading.\")\n",
    "    if x > len(data2):\n",
    "        print(\"Line Number is not exist.\")\n",
    "    else:\n",
    "        print(data2[x-1],end=\"\")"
   ]
  },
  {
   "cell_type": "code",
   "execution_count": 34,
   "metadata": {},
   "outputs": [
    {
     "name": "stdout",
     "output_type": "stream",
     "text": [
      "Shanu\n",
      "\n",
      "Maninder\n",
      "\n",
      "sham\n",
      "Ram\n",
      "Tej Pal\n",
      "Ram Lal\n",
      "Thakur\n"
     ]
    }
   ],
   "source": [
    "var = open(\"D:/Name.txt\",\"r\") # 'r' for reading the file.\n",
    "print(var.readline())\n",
    "print(var.readline())\n",
    "print(var.read())"
   ]
  },
  {
   "cell_type": "code",
   "execution_count": 49,
   "metadata": {},
   "outputs": [],
   "source": [
    "var0 = open(\"D:/test.txt\",\"w\") # 'w' is to writing into the file.\n",
    "var0.write(\"hi\")\n",
    "var0.write(\"Shanu\\n\")\n",
    "var0.write(\"Good Morning\\n\")\n",
    "add = [\"JP Nagar\\n\",\"BTM\\n\",\"Silk Board\\n\"] # we need to provide \\n after every list element to print in new line in file.\n",
    "var0.writelines(add)\n",
    "\n",
    "\n",
    "\n",
    "var0.close()\n"
   ]
  },
  {
   "cell_type": "code",
   "execution_count": 50,
   "metadata": {},
   "outputs": [],
   "source": [
    "var0 = open(\"D:/test.txt\",\"w\")\n",
    "add = [\"JP Nagar\\n\",\"BTM\\n\",\"Silk Board\\n\"] # it will override the data.\n",
    "var0.writelines(add)\n",
    "\n",
    "\n",
    "\n",
    "var0.close()"
   ]
  },
  {
   "cell_type": "code",
   "execution_count": 52,
   "metadata": {},
   "outputs": [],
   "source": [
    "var0 = open(\"D:/test2.txt\",\"w\") # In writing, if we give not existing file name then it will create new file.\n",
    "add = [\"JP Nagar\\n\",\"BTM\\n\",\"Silk Board\\n\"] # it will override the data.\n",
    "var0.writelines(add)\n",
    "\n",
    "\n",
    "var0.close()"
   ]
  },
  {
   "cell_type": "code",
   "execution_count": 53,
   "metadata": {},
   "outputs": [],
   "source": [
    "var0 = open(\"D:/test2.txt\",\"a\") # 'a' is for append. if we want old data as well and write new data.\n",
    "# In appending,if we give not existing file name then it will create new file.\n",
    "add = [\"JP Nagar\\n\",\"BTM\\n\",\"Silk Board\\n\"] # it will override the data.\n",
    "var0.writelines(add)\n",
    "\n",
    "\n",
    "var0.close()"
   ]
  },
  {
   "cell_type": "code",
   "execution_count": 59,
   "metadata": {},
   "outputs": [
    {
     "name": "stdout",
     "output_type": "stream",
     "text": [
      "Enter first line number: 9\n",
      "Enter Second line number: 3\n",
      "Line 9 is not exist.\n",
      "Line 3 has been updated successfuly.\n"
     ]
    }
   ],
   "source": [
    "'''\n",
    "Write a program to take 2 user input as line numbers and copy those line numbers from one file to another file.\n",
    "'''\n",
    "first_l = int(input(\"Enter first line number: \"))\n",
    "Second_l = int(input(\"Enter Second line number: \"))\n",
    "data = open(\"D:/test_file.txt\",\"r\").readlines()\n",
    "def line_doest_exist(line_n):\n",
    "    return \"Line \"+str(line_n)+\" is not exist.\"\n",
    "\n",
    "def write_data(indx):\n",
    "    data1 = open(\"D:/test_file2.txt\",'a')\n",
    "    data1.write(data[indx-1])\n",
    "    print(\"Line \"+str(indx)+\" has been updated successfuly.\")\n",
    "    \n",
    "if first_l > len(data):\n",
    "    print(line_doest_exist(first_l))\n",
    "else:\n",
    "    write_data(first_l)\n",
    "if Second_l > len(data):\n",
    "    print(line_doest_exist(Second_l))\n",
    "else:\n",
    "    write_data(Second_l)\n"
   ]
  },
  {
   "cell_type": "code",
   "execution_count": 3,
   "metadata": {},
   "outputs": [
    {
     "name": "stdout",
     "output_type": "stream",
     "text": [
      "Enter Start range: 4\n",
      "Enter end range: 1\n",
      "Please enter proper range.\n"
     ]
    }
   ],
   "source": [
    "# take user input as range that from which line to which line ...you have to copy lines to another file.\n",
    "\n",
    "first_l = int(input(\"Enter Start range: \"))\n",
    "Second_l = int(input(\"Enter end range: \"))\n",
    "data = open(\"D:/test_file.txt\",\"r\").readlines()\n",
    "def line_doest_exist(line_n):\n",
    "    return \"Line \"+str(line_n)+\" is not exist.\"\n",
    "\n",
    "def write_data(s_indx,e_indx):\n",
    "    s = s_indx-1\n",
    "    val0 = s_indx\n",
    "    while s < e_indx:\n",
    "        data1 = open(\"D:/test_file2.txt\",'a')\n",
    "        data1.write(data[s])\n",
    "        s+=1\n",
    "    print(\"Lines from \"+str(val0)+\" to \"+str(e_indx)+\" has been updated successfuly.\")\n",
    "if first_l > Second_l:\n",
    "    print(\"Please enter proper range.\")\n",
    "elif first_l > len(data):\n",
    "    print(line_doest_exist(first_l))\n",
    "elif Second_l > len(data):\n",
    "    print(line_doest_exist(Second_l))\n",
    "else:\n",
    "    write_data(first_l,Second_l)\n"
   ]
  },
  {
   "cell_type": "code",
   "execution_count": 5,
   "metadata": {},
   "outputs": [
    {
     "name": "stdout",
     "output_type": "stream",
     "text": [
      "Enter the line number to delete: 2\n",
      "Line number 2 has been deleted successfully.\n"
     ]
    }
   ],
   "source": [
    "# take user input...line number....delete that line number if line number not exist then print\n",
    "# take 2 input as range...delete that lines between the range.\n",
    "\n",
    "line = int(input(\"Enter the line number to delete: \"))\n",
    "var = open(\"D:/test_file.txt\",'r')\n",
    "data = var.readlines()\n",
    "var.close()\n",
    "var = open(\"D:/test_file.txt\",'w')\n",
    "j = data[line-1]\n",
    "data.pop(line-1)\n",
    "black_str = \"\"\n",
    "for i in range(len(j)):\n",
    "    black_str+=\" \"\n",
    "black_str+=\"\\n\"\n",
    "data.append(black_str)\n",
    "var.writelines(data)\n",
    "print(\"Line number \"+str(line)+\" has been deleted successfully.\")\n",
    "var.close()"
   ]
  },
  {
   "cell_type": "code",
   "execution_count": 4,
   "metadata": {},
   "outputs": [
    {
     "name": "stdout",
     "output_type": "stream",
     "text": [
      "Lines divided in three files equally.\n"
     ]
    }
   ],
   "source": [
    "# assignment 1\n",
    "# lets say we have file with 30 lines then write the program to divide lines into 3 equal parts.\n",
    "# if we have 25 lines then it will be 8,8,9\n",
    "\n",
    "import math\n",
    "def write_new_file():\n",
    "    with open(\"D:/test_file1.txt\",'r') as nf:\n",
    "        data = nf.readlines()\n",
    "        j = (len(data)/3)\n",
    "        j = math.floor(j)\n",
    "    x = 1\n",
    "    i = 0\n",
    "    while x <= 3:\n",
    "        with open(\"D:/New_test\"+str(x)+\".txt\",'w') as ntf:\n",
    "            countr = 0\n",
    "            while countr < j and j < len(data):\n",
    "                if x == 3:\n",
    "                    ntf.writelines(data[i:len(data)])\n",
    "                    break\n",
    "                else:\n",
    "                    ntf.writelines(data[i])\n",
    "                i+=1\n",
    "                countr+=1\n",
    "        x+=1\n",
    "write_new_file()\n",
    "print(\"Lines divided in three files equally.\")"
   ]
  },
  {
   "cell_type": "code",
   "execution_count": 28,
   "metadata": {},
   "outputs": [
    {
     "name": "stdout",
     "output_type": "stream",
     "text": [
      "Done\n"
     ]
    }
   ],
   "source": [
    "# assignment 1\n",
    "'''\n",
    "we have a file with following data.\n",
    "#Ram#25#25000\n",
    "#Sham#28#20000\n",
    "#Ram#25#25000\n",
    "#Mohan#30#10000\n",
    "\n",
    "write a program that create 3 files: - Unique, Duplicate , and ascending order.\n",
    "unique file should have the records\n",
    "\n",
    "\n",
    "\n",
    "'''\n",
    "\n",
    "with open(\"D:/Emp.txt\",'r') as emp:\n",
    "    lines=emp.readlines()\n",
    "    \n",
    "with open(\"D:/Unq_Emp.txt\",'w') as emp1:\n",
    "    unique_lines = list(set(lines))\n",
    "    emp1.writelines(unique_lines)\n",
    "with open(\"D:/Dup_Emp.txt\",'w') as emp2:\n",
    "    list1 = []\n",
    "    list2 = []\n",
    "    for i in lines:\n",
    "        if i not in list1:\n",
    "            list1.append(i)\n",
    "        else:\n",
    "            list2.append(i)\n",
    "    emp2.writelines(list2)\n",
    "with open(\"D:/Asc_Emp.txt\",'w') as emp3:\n",
    "    list3 = []\n",
    "    list3.append(lines[0])\n",
    "    s1 = lines[0].split('#')\n",
    "    countr = 0\n",
    "    val = 0\n",
    "    for i in s1:\n",
    "        if countr == 3:\n",
    "            val = i\n",
    "        countr+=1\n",
    "    for i in lines:\n",
    "        s = i.split('#')\n",
    "        c = 0\n",
    "        for n in s:\n",
    "            if c == 3:\n",
    "                if n >= val:\n",
    "                    list3[0]=i\n",
    "                else:\n",
    "                    list3.append(i)\n",
    "            c+=1\n",
    "    emp3.writelines(list3)\n",
    "    \n",
    "print(\"Done\")\n",
    "    "
   ]
  },
  {
   "cell_type": "code",
   "execution_count": null,
   "metadata": {},
   "outputs": [],
   "source": [
    "#assignment 3\n",
    "'''\n",
    "write a program to copy last 2 lines from a file to another file.\n",
    "first time..you need to check the file is exist or not...if note then create a file with any 10 random lines or numbers. then copy.\n",
    "second time...you need to copy the last 2 lines into another file.\n",
    "\n",
    "\n",
    "\n",
    "'''"
   ]
  },
  {
   "cell_type": "code",
   "execution_count": null,
   "metadata": {},
   "outputs": [],
   "source": [
    "'''\n",
    "we have 2 files ...write a program to run on those 2 files\n",
    "\n",
    "1 file:-\n",
    "Exception\n",
    "Success\n",
    "error\n",
    "Completed\n",
    "Done\n",
    "Some exception\n",
    "finished\n",
    "\n",
    "\n",
    "2 file:-\n",
    "Success\n",
    "Done\n",
    "Completed\n",
    "\n",
    "\n",
    "if there is any\n",
    "\n",
    "\n",
    "\n",
    "\n",
    "\n",
    "\n",
    "'''"
   ]
  }
 ],
 "metadata": {
  "kernelspec": {
   "display_name": "Python 3",
   "language": "python",
   "name": "python3"
  },
  "language_info": {
   "codemirror_mode": {
    "name": "ipython",
    "version": 3
   },
   "file_extension": ".py",
   "mimetype": "text/x-python",
   "name": "python",
   "nbconvert_exporter": "python",
   "pygments_lexer": "ipython3",
   "version": "3.7.3"
  }
 },
 "nbformat": 4,
 "nbformat_minor": 2
}
