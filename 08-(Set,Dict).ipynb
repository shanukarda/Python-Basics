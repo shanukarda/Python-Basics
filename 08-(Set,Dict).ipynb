{
 "cells": [
  {
   "cell_type": "markdown",
   "metadata": {},
   "source": [
    "# Set/Dict"
   ]
  },
  {
   "cell_type": "code",
   "execution_count": 2,
   "metadata": {},
   "outputs": [
    {
     "name": "stdout",
     "output_type": "stream",
     "text": [
      "<class 'dict'>\n",
      "{'name': 'Ram', 'Age': 33}\n"
     ]
    }
   ],
   "source": [
    "# in dictionary , there is no pre define index, we can define our own index or key and thier values.\n",
    "d = {\"name\":\"Ram\", \"Age\":33}\n",
    "print(type(d))\n",
    "print(d)"
   ]
  },
  {
   "cell_type": "code",
   "execution_count": 3,
   "metadata": {},
   "outputs": [
    {
     "data": {
      "text/plain": [
       "'Ram'"
      ]
     },
     "execution_count": 3,
     "metadata": {},
     "output_type": "execute_result"
    }
   ],
   "source": [
    "print(d[\"name\"])"
   ]
  },
  {
   "cell_type": "code",
   "execution_count": 7,
   "metadata": {},
   "outputs": [
    {
     "name": "stdout",
     "output_type": "stream",
     "text": [
      "Ram\n",
      "Ram\n",
      "<class 'dict'>\n"
     ]
    }
   ],
   "source": [
    "d = {'name':'Ram','Name':\"Sham\"}\n",
    "print(d['name'])\n",
    "print(d['name'])\n",
    "print(type(d))"
   ]
  },
  {
   "cell_type": "code",
   "execution_count": 8,
   "metadata": {},
   "outputs": [
    {
     "data": {
      "text/plain": [
       "2"
      ]
     },
     "execution_count": 8,
     "metadata": {},
     "output_type": "execute_result"
    }
   ],
   "source": [
    "len(d)"
   ]
  },
  {
   "cell_type": "code",
   "execution_count": 9,
   "metadata": {},
   "outputs": [
    {
     "name": "stdout",
     "output_type": "stream",
     "text": [
      "2\n"
     ]
    }
   ],
   "source": [
    "d = {\"name\":\"Ram\", \"Age\":33}\n",
    "print(len(d))"
   ]
  },
  {
   "cell_type": "code",
   "execution_count": 11,
   "metadata": {},
   "outputs": [
    {
     "name": "stdout",
     "output_type": "stream",
     "text": [
      "<class 'dict_keys'>\n"
     ]
    }
   ],
   "source": [
    "d.keys()"
   ]
  },
  {
   "cell_type": "code",
   "execution_count": 13,
   "metadata": {},
   "outputs": [
    {
     "data": {
      "text/plain": [
       "dict_values(['Ram', 33])"
      ]
     },
     "execution_count": 13,
     "metadata": {},
     "output_type": "execute_result"
    }
   ],
   "source": [
    "d.values()"
   ]
  },
  {
   "cell_type": "code",
   "execution_count": 16,
   "metadata": {},
   "outputs": [
    {
     "name": "stdout",
     "output_type": "stream",
     "text": [
      "<class 'dict_keys'>\n",
      "<class 'dict_values'>\n"
     ]
    }
   ],
   "source": [
    "print(type(d.keys()))\n",
    "print(type(d.values()))"
   ]
  },
  {
   "cell_type": "code",
   "execution_count": 17,
   "metadata": {},
   "outputs": [
    {
     "name": "stdout",
     "output_type": "stream",
     "text": [
      "dict_items([('name', 'Ram'), ('Age', 33)])\n"
     ]
    }
   ],
   "source": [
    "print(d.items())"
   ]
  },
  {
   "cell_type": "code",
   "execution_count": 22,
   "metadata": {},
   "outputs": [
    {
     "name": "stdout",
     "output_type": "stream",
     "text": [
      "33\n"
     ]
    }
   ],
   "source": [
    "print(d.get(\"Age\"))"
   ]
  },
  {
   "cell_type": "code",
   "execution_count": 24,
   "metadata": {},
   "outputs": [
    {
     "name": "stdout",
     "output_type": "stream",
     "text": [
      "None\n"
     ]
    }
   ],
   "source": [
    "print(d.get(\"Address\")) #if we use get function it will not give the error if key is not there in dictionary."
   ]
  },
  {
   "cell_type": "code",
   "execution_count": 25,
   "metadata": {},
   "outputs": [
    {
     "ename": "KeyError",
     "evalue": "'address'",
     "output_type": "error",
     "traceback": [
      "\u001b[1;31m---------------------------------------------------------------------------\u001b[0m",
      "\u001b[1;31mKeyError\u001b[0m                                  Traceback (most recent call last)",
      "\u001b[1;32m<ipython-input-25-d82d2f7ae6aa>\u001b[0m in \u001b[0;36m<module>\u001b[1;34m\u001b[0m\n\u001b[1;32m----> 1\u001b[1;33m \u001b[0md\u001b[0m\u001b[1;33m[\u001b[0m\u001b[1;34m\"address\"\u001b[0m\u001b[1;33m]\u001b[0m\u001b[1;33m\u001b[0m\u001b[1;33m\u001b[0m\u001b[0m\n\u001b[0m",
      "\u001b[1;31mKeyError\u001b[0m: 'address'"
     ]
    }
   ],
   "source": [
    "d[\"address\"] # if we use index operator it will give the error if key is not there in dictionary."
   ]
  },
  {
   "cell_type": "code",
   "execution_count": 26,
   "metadata": {},
   "outputs": [],
   "source": [
    "d[\"address\"]='BTM'"
   ]
  },
  {
   "cell_type": "code",
   "execution_count": 28,
   "metadata": {},
   "outputs": [
    {
     "name": "stdout",
     "output_type": "stream",
     "text": [
      "{'name': 'Ram', 'Age': 33, 'address': 'BTM'}\n"
     ]
    }
   ],
   "source": [
    "print(d)"
   ]
  },
  {
   "cell_type": "code",
   "execution_count": 29,
   "metadata": {},
   "outputs": [],
   "source": [
    "d.update({'Dept':\"IT\"})"
   ]
  },
  {
   "cell_type": "code",
   "execution_count": 30,
   "metadata": {},
   "outputs": [
    {
     "name": "stdout",
     "output_type": "stream",
     "text": [
      "{'name': 'Ram', 'Age': 33, 'address': 'BTM', 'Dept': 'IT'}\n"
     ]
    }
   ],
   "source": [
    "print(d)"
   ]
  },
  {
   "cell_type": "code",
   "execution_count": 31,
   "metadata": {},
   "outputs": [],
   "source": [
    "d[\"address\"]=\"JPNagar\""
   ]
  },
  {
   "cell_type": "code",
   "execution_count": 32,
   "metadata": {},
   "outputs": [
    {
     "name": "stdout",
     "output_type": "stream",
     "text": [
      "{'name': 'Ram', 'Age': 33, 'address': 'JPNagar', 'Dept': 'IT'}\n"
     ]
    }
   ],
   "source": [
    "print(d)"
   ]
  },
  {
   "cell_type": "code",
   "execution_count": 33,
   "metadata": {},
   "outputs": [
    {
     "name": "stdout",
     "output_type": "stream",
     "text": [
      "{'name': 'Ram', 'Age': 33, 'address': 'JPNagar', 'Dept': 'SD'}\n"
     ]
    }
   ],
   "source": [
    "d.update({'Dept':\"SD\"})\n",
    "print(d)"
   ]
  },
  {
   "cell_type": "code",
   "execution_count": 45,
   "metadata": {},
   "outputs": [
    {
     "data": {
      "text/plain": [
       "{'Name': 'Rohit', 'Age': 30, 'Dept': 'IT'}"
      ]
     },
     "execution_count": 45,
     "metadata": {},
     "output_type": "execute_result"
    }
   ],
   "source": [
    "d"
   ]
  },
  {
   "cell_type": "code",
   "execution_count": 49,
   "metadata": {},
   "outputs": [
    {
     "name": "stdout",
     "output_type": "stream",
     "text": [
      "Name\n",
      "Age\n",
      "Dept\n"
     ]
    }
   ],
   "source": [
    "# for loop on dictionary\n",
    "d = {\"Name\":\"Rohit\",\"Age\":30,\"Dept\":\"IT\"}\n",
    "for i in d:\n",
    "    print(i)"
   ]
  },
  {
   "cell_type": "code",
   "execution_count": 41,
   "metadata": {},
   "outputs": [
    {
     "name": "stdout",
     "output_type": "stream",
     "text": [
      "Rohit\n",
      "30\n",
      "IT\n"
     ]
    }
   ],
   "source": [
    "# to get the values\n",
    "for i in d:\n",
    "    print(d.get(i))"
   ]
  },
  {
   "cell_type": "code",
   "execution_count": 42,
   "metadata": {},
   "outputs": [
    {
     "name": "stdout",
     "output_type": "stream",
     "text": [
      "Rohit\n",
      "30\n",
      "IT\n"
     ]
    }
   ],
   "source": [
    "for i in d.values():\n",
    "    print(i)"
   ]
  },
  {
   "cell_type": "code",
   "execution_count": 50,
   "metadata": {},
   "outputs": [
    {
     "data": {
      "text/plain": [
       "'Rohit'"
      ]
     },
     "execution_count": 50,
     "metadata": {},
     "output_type": "execute_result"
    }
   ],
   "source": [
    "# To remove the element(key & value) of dictionary.\n",
    "d.pop(\"Name\")"
   ]
  },
  {
   "cell_type": "code",
   "execution_count": 51,
   "metadata": {},
   "outputs": [
    {
     "name": "stdout",
     "output_type": "stream",
     "text": [
      "{'Age': 30, 'Dept': 'IT'}\n"
     ]
    }
   ],
   "source": [
    "print(d)"
   ]
  },
  {
   "cell_type": "code",
   "execution_count": 67,
   "metadata": {},
   "outputs": [
    {
     "name": "stdout",
     "output_type": "stream",
     "text": [
      "{'Ram': '20', 'Rohit': '30', 'Rocky': '30'}\n"
     ]
    }
   ],
   "source": [
    "# write a program to convert a list in dictionary.\n",
    "l = [\"Ram-20\",\"Rohit-30\",\"Rocky-30\"]\n",
    "d2 = {}\n",
    "for i in l:\n",
    "    j = i.split('-')\n",
    "    d2.update({j[0]:j[1]})\n",
    "print(d2)\n"
   ]
  },
  {
   "cell_type": "code",
   "execution_count": 68,
   "metadata": {},
   "outputs": [
    {
     "name": "stdout",
     "output_type": "stream",
     "text": [
      "{'Ram': 20, 'Rohit': 30, 'Rocky': 30}\n"
     ]
    }
   ],
   "source": [
    "# write a program to convert a list in dictionary.\n",
    "l = [\"Ram-20\",\"Rohit-30\",\"Rocky-30\"]\n",
    "d2 = {}\n",
    "for i in l:\n",
    "    j = i.split('-')\n",
    "    d2.update({j[0]:int(j[1])}) # to convert values in integer form.\n",
    "print(d2)\n"
   ]
  },
  {
   "cell_type": "code",
   "execution_count": 99,
   "metadata": {},
   "outputs": [
    {
     "name": "stdout",
     "output_type": "stream",
     "text": [
      "{'Shanu': 30, 'Rocky': 80}\n"
     ]
    }
   ],
   "source": [
    "# Convert the list into dictionary and change the key of \"Ram\" & \"Rohit\"=\"Your Name\" \n",
    "# and change value as 40 if key is \"Rocky\".\n",
    "\n",
    "l = [\"Ram-30\",\"Rohit-30\",\"Rocky-80\"]\n",
    "d={}\n",
    "for i in l:\n",
    "    j = i.split('-')\n",
    "    if j[1]=='30':\n",
    "        j[0]=\"Shanu\"\n",
    "    elif j[0]==\"Rocky\":\n",
    "        j[1]=='40'\n",
    "    d.update({j[0]:int(j[1])})\n",
    "    \n",
    "print(d)"
   ]
  },
  {
   "cell_type": "code",
   "execution_count": 109,
   "metadata": {},
   "outputs": [
    {
     "name": "stdout",
     "output_type": "stream",
     "text": [
      "{'Rocky': 80, 'Shanu': 30}\n"
     ]
    }
   ],
   "source": [
    "# To change the key of \"Ram\" & \"Rohit\"=\"Your Name\" \n",
    "# and change value as 40 if key is \"Rocky\"from a dictionary\n",
    "\n",
    "dict1 = {\"Ram\":30,\"Rohit\":30,\"Rocky\":80}\n",
    "dict2 = dict1.copy()\n",
    "for i in dict1:\n",
    "    if dict1.get(i)==30:\n",
    "        dict2.update({\"Shanu\":dict2.pop(i)})\n",
    "    elif i ==\"Rocky\":\n",
    "        d2[i]=40\n",
    "del dict1\n",
    "print(dict2)"
   ]
  },
  {
   "cell_type": "code",
   "execution_count": null,
   "metadata": {},
   "outputs": [],
   "source": [
    "# Assignment 1\n",
    "'''d1= {\"a\":1,\"b\":2,\"c\":6}\n",
    "d2= {\"a\":5,\"x\":8,\"c\":50}\n",
    "\n",
    "output should be: {\"a\":6,\"x\":8,\"c\":56,\"b\":2}'''"
   ]
  },
  {
   "cell_type": "code",
   "execution_count": 118,
   "metadata": {},
   "outputs": [
    {
     "name": "stdout",
     "output_type": "stream",
     "text": [
      "{'a': 6, 'x': 8, 'c': 56}\n"
     ]
    }
   ],
   "source": [
    "d1 = {\"a\":1,\"b\":2,\"c\":6}\n",
    "d2 = {\"a\":5,\"x\":8,\"c\":50}\n",
    "d3 = d2.copy()\n",
    "for i in d1:\n",
    "    if i in d2:\n",
    "        d3.update({i:d1[i]+d2[i]})\n",
    "print(d3)\n",
    "    "
   ]
  },
  {
   "cell_type": "code",
   "execution_count": null,
   "metadata": {},
   "outputs": [],
   "source": [
    "# Assignment 2\n",
    "'''lstdct = [{'Name':'Rohit','Marks':80,'Subject':'Math','Year'=2018},\n",
    "          {'Name':'Rohit','Marks':90,'Subject':'Math','Year'=2019}]\n",
    "\n",
    "output should be: {'Name':'Rohit','Marks':170,'Subject':'Math','Avg':85,'Year'=[2018,2019]}'''"
   ]
  },
  {
   "cell_type": "code",
   "execution_count": 9,
   "metadata": {},
   "outputs": [
    {
     "name": "stdout",
     "output_type": "stream",
     "text": [
      "{'Name': 'Rohit', 'Marks': 170, 'Avg': 85.0, 'Subject': 'Math', 'Year': '2019-2018'}\n"
     ]
    }
   ],
   "source": [
    "lstdct = [{'Name':'Rohit','Marks':80,'Subject':'Math','Year':2018},\n",
    "          {'Name':'Rohit','Marks':90,'Subject':'Math','Year':2019}]\n",
    "dict1 = lstdct[0]\n",
    "dict2 = lstdct[1]\n",
    "final_dct = {}\n",
    "for i in dct1:\n",
    "    if i =='Marks':\n",
    "        final_dct.update({i:dict2[i]+dict1[i]})\n",
    "        final_dct.update({\"Avg\":(dict2[i]+dict1[i])/2})\n",
    "    elif i=='Year':\n",
    "        final_dct.update({i:str(str(dict2[i])+\"-\"+str(dict1[i]))})\n",
    "    else:\n",
    "        final_dct.update({i:dict1[i]})\n",
    "print(final_dct)\n",
    "        \n",
    "    "
   ]
  },
  {
   "cell_type": "code",
   "execution_count": null,
   "metadata": {},
   "outputs": [],
   "source": []
  },
  {
   "cell_type": "code",
   "execution_count": null,
   "metadata": {},
   "outputs": [],
   "source": []
  }
 ],
 "metadata": {
  "kernelspec": {
   "display_name": "Python 3",
   "language": "python",
   "name": "python3"
  },
  "language_info": {
   "codemirror_mode": {
    "name": "ipython",
    "version": 3
   },
   "file_extension": ".py",
   "mimetype": "text/x-python",
   "name": "python",
   "nbconvert_exporter": "python",
   "pygments_lexer": "ipython3",
   "version": "3.7.3"
  }
 },
 "nbformat": 4,
 "nbformat_minor": 2
}
