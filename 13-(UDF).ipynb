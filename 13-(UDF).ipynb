{
 "cells": [
  {
   "cell_type": "markdown",
   "metadata": {},
   "source": [
    "# User Defined Function()"
   ]
  },
  {
   "cell_type": "code",
   "execution_count": 1,
   "metadata": {},
   "outputs": [
    {
     "name": "stdout",
     "output_type": "stream",
     "text": [
      "7\n"
     ]
    }
   ],
   "source": [
    "# We use def keyword to create a function in python\n",
    "def sum(a,b):\n",
    "    print(a+b)\n",
    "sum(3,4)"
   ]
  },
  {
   "cell_type": "code",
   "execution_count": 2,
   "metadata": {},
   "outputs": [
    {
     "name": "stdout",
     "output_type": "stream",
     "text": [
      "5\n"
     ]
    }
   ],
   "source": [
    "def sum():\n",
    "    print(2+3)\n",
    "sum()"
   ]
  },
  {
   "cell_type": "code",
   "execution_count": 3,
   "metadata": {},
   "outputs": [
    {
     "name": "stdout",
     "output_type": "stream",
     "text": [
      "5\n",
      "None\n"
     ]
    }
   ],
   "source": [
    "print(sum()) # It will return None because function does not return anything."
   ]
  },
  {
   "cell_type": "code",
   "execution_count": 4,
   "metadata": {},
   "outputs": [
    {
     "name": "stdout",
     "output_type": "stream",
     "text": [
      "5\n"
     ]
    }
   ],
   "source": [
    "def sum():\n",
    "    s = 2+3\n",
    "    return s # now we declare return value then it will not going to return None.\n",
    "print(sum())"
   ]
  },
  {
   "cell_type": "code",
   "execution_count": 6,
   "metadata": {},
   "outputs": [
    {
     "name": "stdout",
     "output_type": "stream",
     "text": [
      "5\n"
     ]
    }
   ],
   "source": [
    "result = sum() # function's value can be store in a variable.\n",
    "print(result)"
   ]
  },
  {
   "cell_type": "markdown",
   "metadata": {},
   "source": [
    "# Use of function: -  Code reusuability"
   ]
  },
  {
   "cell_type": "code",
   "execution_count": 8,
   "metadata": {},
   "outputs": [
    {
     "name": "stdout",
     "output_type": "stream",
     "text": [
      "6\n"
     ]
    }
   ],
   "source": [
    "def add(a,b,c):\n",
    "    sum = a+b\n",
    "    dif = a-c\n",
    "    mul = a*c\n",
    "    return sum # here function will return the value and come out of the function. It will not execute next lines in function.\n",
    "    return dif\n",
    "result = add(4,2,2)\n",
    "print(result)"
   ]
  },
  {
   "cell_type": "code",
   "execution_count": 10,
   "metadata": {},
   "outputs": [
    {
     "name": "stdout",
     "output_type": "stream",
     "text": [
      "<class 'tuple'>\n",
      "(6, 2, 8)\n"
     ]
    }
   ],
   "source": [
    "def add(a,b,c):\n",
    "    sum = a+b\n",
    "    dif = a-c\n",
    "    mul = a*c\n",
    "    return sum,dif,mul # if you want multiple values to return then you can seperate them by comma after return keyword.\n",
    "result = add(4,2,2)\n",
    "print(type(result)) # for multiple values, it will give one single object that is tuple. Tuple will having all values.\n",
    "print(result)"
   ]
  },
  {
   "cell_type": "code",
   "execution_count": 11,
   "metadata": {},
   "outputs": [
    {
     "name": "stdout",
     "output_type": "stream",
     "text": [
      "5 6\n",
      "None\n"
     ]
    }
   ],
   "source": [
    "def add(a,b,c,d):\n",
    "    print(a+b,c+d)\n",
    "print(add(2,3,2,4))"
   ]
  },
  {
   "cell_type": "code",
   "execution_count": 12,
   "metadata": {},
   "outputs": [
    {
     "name": "stdout",
     "output_type": "stream",
     "text": [
      "5 6\n"
     ]
    }
   ],
   "source": [
    "def add(a,b,c,d):\n",
    "    print(a+b,c+d)\n",
    "add(2,3,2,4)"
   ]
  },
  {
   "cell_type": "markdown",
   "metadata": {},
   "source": [
    "## Required Positional Arguments"
   ]
  },
  {
   "cell_type": "code",
   "execution_count": 15,
   "metadata": {},
   "outputs": [
    {
     "ename": "TypeError",
     "evalue": "add() takes 4 positional arguments but 5 were given",
     "output_type": "error",
     "traceback": [
      "\u001b[1;31m---------------------------------------------------------------------------\u001b[0m",
      "\u001b[1;31mTypeError\u001b[0m                                 Traceback (most recent call last)",
      "\u001b[1;32m<ipython-input-15-d86665e7b72a>\u001b[0m in \u001b[0;36m<module>\u001b[1;34m\u001b[0m\n\u001b[0;32m      1\u001b[0m \u001b[1;32mdef\u001b[0m \u001b[0madd\u001b[0m\u001b[1;33m(\u001b[0m\u001b[0ma\u001b[0m\u001b[1;33m,\u001b[0m\u001b[0mb\u001b[0m\u001b[1;33m,\u001b[0m\u001b[0mc\u001b[0m\u001b[1;33m,\u001b[0m\u001b[0md\u001b[0m\u001b[1;33m)\u001b[0m\u001b[1;33m:\u001b[0m\u001b[1;33m\u001b[0m\u001b[1;33m\u001b[0m\u001b[0m\n\u001b[0;32m      2\u001b[0m     \u001b[0mprint\u001b[0m\u001b[1;33m(\u001b[0m\u001b[0ma\u001b[0m\u001b[1;33m+\u001b[0m\u001b[0mb\u001b[0m\u001b[1;33m,\u001b[0m\u001b[0mc\u001b[0m\u001b[1;33m+\u001b[0m\u001b[0md\u001b[0m\u001b[1;33m)\u001b[0m\u001b[1;33m\u001b[0m\u001b[1;33m\u001b[0m\u001b[0m\n\u001b[1;32m----> 3\u001b[1;33m \u001b[0madd\u001b[0m\u001b[1;33m(\u001b[0m\u001b[1;36m2\u001b[0m\u001b[1;33m,\u001b[0m\u001b[1;36m3\u001b[0m\u001b[1;33m,\u001b[0m\u001b[1;36m2\u001b[0m\u001b[1;33m,\u001b[0m\u001b[1;36m4\u001b[0m\u001b[1;33m,\u001b[0m\u001b[1;36m2\u001b[0m\u001b[1;33m)\u001b[0m\u001b[1;33m\u001b[0m\u001b[1;33m\u001b[0m\u001b[0m\n\u001b[0m",
      "\u001b[1;31mTypeError\u001b[0m: add() takes 4 positional arguments but 5 were given"
     ]
    }
   ],
   "source": [
    "def add(a,b,c,d):\n",
    "    print(a+b,c+d)\n",
    "add(2,3,2,4,2) # if we pass less or more arguments then required arguments into function then it will throw error."
   ]
  },
  {
   "cell_type": "code",
   "execution_count": 16,
   "metadata": {},
   "outputs": [
    {
     "name": "stdout",
     "output_type": "stream",
     "text": [
      "2\n",
      "3\n",
      "2\n",
      "4\n"
     ]
    }
   ],
   "source": [
    "def add(a,b,c,d):\n",
    "    print(a)\n",
    "    print(b)\n",
    "    print(c)\n",
    "    print(d)\n",
    "add(2,3,2,4)"
   ]
  },
  {
   "cell_type": "markdown",
   "metadata": {},
   "source": [
    "## Non Required Positional Arguments"
   ]
  },
  {
   "cell_type": "code",
   "execution_count": 17,
   "metadata": {},
   "outputs": [
    {
     "name": "stdout",
     "output_type": "stream",
     "text": [
      "3\n",
      "9\n",
      "4\n",
      "22\n"
     ]
    }
   ],
   "source": [
    "def add(a,b,c,d):\n",
    "    print(a)\n",
    "    print(b)\n",
    "    print(c)\n",
    "    print(d)\n",
    "add(b=9,a=3,d=22,c=4) # if we give the parameter name for value then we can change order of giving value."
   ]
  },
  {
   "cell_type": "markdown",
   "metadata": {},
   "source": [
    "## Default Arguments"
   ]
  },
  {
   "cell_type": "code",
   "execution_count": 19,
   "metadata": {},
   "outputs": [
    {
     "name": "stdout",
     "output_type": "stream",
     "text": [
      "2\n",
      "3\n",
      "4\n"
     ]
    }
   ],
   "source": [
    "# we can give a default value to a argument. It should be at the last.Like c=4 is in the last of list of parameters.\n",
    "def add(a,b,c=4):\n",
    "    print(a)\n",
    "    print(b)\n",
    "    print(c)\n",
    "add(2,3)"
   ]
  },
  {
   "cell_type": "markdown",
   "metadata": {},
   "source": [
    "## Variable Length Arguments"
   ]
  },
  {
   "cell_type": "code",
   "execution_count": 20,
   "metadata": {},
   "outputs": [
    {
     "name": "stdout",
     "output_type": "stream",
     "text": [
      "2\n",
      "3\n",
      "(4,)\n"
     ]
    }
   ],
   "source": [
    "# by giving a '*' in front of a argument, we can take many value as much we want. it will create a tuple of all values. \n",
    "def add(a,b,*z):\n",
    "    print(a)\n",
    "    print(b)\n",
    "    print(z)\n",
    "add(2,3,4)"
   ]
  },
  {
   "cell_type": "code",
   "execution_count": 21,
   "metadata": {},
   "outputs": [
    {
     "name": "stdout",
     "output_type": "stream",
     "text": [
      "2\n",
      "3\n",
      "(4, 5, 6, 7, 8)\n"
     ]
    }
   ],
   "source": [
    "def add(a,b,*z):\n",
    "    print(a)\n",
    "    print(b)\n",
    "    print(z)\n",
    "add(2,3,4,5,6,7,8)"
   ]
  },
  {
   "cell_type": "code",
   "execution_count": 22,
   "metadata": {},
   "outputs": [
    {
     "name": "stdout",
     "output_type": "stream",
     "text": [
      "Hi Java hello Java\n"
     ]
    }
   ],
   "source": [
    "s1 = 'Hi Python hello python'\n",
    "def replace1(str1):\n",
    "    s2 = str1.replace('Python','Java')\n",
    "    s2 = s2.replace('python','Java')\n",
    "    return s2\n",
    "print(replace1(s1))"
   ]
  },
  {
   "cell_type": "code",
   "execution_count": 48,
   "metadata": {},
   "outputs": [
    {
     "name": "stdout",
     "output_type": "stream",
     "text": [
      "Hi Java hello Java \n"
     ]
    }
   ],
   "source": [
    "# Write a program to replace a word into a string. The word can be in upper case or lower case.\n",
    "s1 = 'Hi Python hello python'\n",
    "def replace1(key,val):\n",
    "    s2 = \"\"\n",
    "    s4 = s1.split(\" \")\n",
    "    for i in s4:\n",
    "        if i.upper()==key.upper():\n",
    "            s2+=val+\" \"\n",
    "        else:\n",
    "            s2+=i+\" \"\n",
    "    return s2\n",
    "print(replace1(\"python\",\"Java\"))\n"
   ]
  },
  {
   "cell_type": "code",
   "execution_count": 56,
   "metadata": {},
   "outputs": [
    {
     "name": "stdout",
     "output_type": "stream",
     "text": [
      "Enter Your Name: shanu\n",
      "Hi SHANU Good Morning !!!\n"
     ]
    }
   ],
   "source": [
    "'''\n",
    "input ---- User name\n",
    "output should be ----- \"Hi <user Name> Good Moring\"\n",
    "'''\n",
    "a = input(\"Enter Your Name: \")\n",
    "def hi(x):\n",
    "    x = x.upper()\n",
    "    b =\"Hi \"+x+\" Good Morning !!!\"\n",
    "    return b\n",
    "print(hi(a))    "
   ]
  },
  {
   "cell_type": "code",
   "execution_count": null,
   "metadata": {},
   "outputs": [],
   "source": [
    "'''\n",
    "check array\n",
    "check 123 is in list or not\n",
    "'''"
   ]
  },
  {
   "cell_type": "code",
   "execution_count": 27,
   "metadata": {},
   "outputs": [
    {
     "name": "stdout",
     "output_type": "stream",
     "text": [
      "True\n"
     ]
    }
   ],
   "source": [
    "arr = [3,1,2,3,1,2,1,2,3,4,3,2,1]\n",
    "def check_arr(l1):\n",
    "    c = 0\n",
    "    check = False\n",
    "    for i in l1:\n",
    "        if i==3 and (l1[c-1]==2 and c > 0) and l1[c-2]==1:\n",
    "            check = True\n",
    "        c+=1\n",
    "    if check:\n",
    "        return True\n",
    "    else:\n",
    "        return False\n",
    "print(check_arr(arr))"
   ]
  },
  {
   "cell_type": "code",
   "execution_count": 2,
   "metadata": {},
   "outputs": [
    {
     "name": "stdout",
     "output_type": "stream",
     "text": [
      "123\n",
      "Welcome to the guessing game. We have generate a 3 digit random number.\n",
      "You have to guess that number by entering only 3 digit number and you will get 10 tries.\n",
      "Let's Play...\n",
      "You have 10 tries left.\n",
      "Correct Number:_ _ _\n",
      "Guess the Number:\n",
      "235\n",
      "You have 9 tries left.\n",
      "Correct Number:_23\n",
      "Guess the Number:\n",
      "258\n",
      "You have 8 tries left.\n",
      "Correct Number:_2 _\n",
      "Guess the Number:\n",
      "213\n",
      "You guess all digits but sequence is not correct.\n",
      "You have 7 tries left.\n",
      "Correct Number:123\n",
      "Guess the Number:\n",
      "321\n",
      "You guess all digits but sequence is not correct.\n",
      "You have 6 tries left.\n",
      "Correct Number:123\n",
      "Guess the Number:\n",
      "213\n",
      "You guess all digits but sequence is not correct.\n",
      "You have 5 tries left.\n",
      "Correct Number:123\n",
      "Guess the Number:\n",
      "123\n",
      "You win!, Congrats!, Right number is: 123\n"
     ]
    }
   ],
   "source": [
    "# generate a random number \n",
    "'''\n",
    "number guessing game\n",
    "lets say random number is 246.\n",
    "give 10 chance to user to input (guess) the number.\n",
    "if input is :-\n",
    "286 -----> output should be:\n",
    "\n",
    "'''\n",
    "import random\n",
    "\n",
    "def guess_game():\n",
    "    r_num = str(random.randint(100,1000))\n",
    "    print(r_num)\n",
    "    guess_try = 10\n",
    "    user_input=\"\"\n",
    "    print('''Welcome to the guessing game. We have generate a 3 digit random number.\\nYou have to guess that number by entering only 3 digit number and you will get 10 tries.\\nLet's Play...''')\n",
    "    while guess_try > 0:\n",
    "        c = 0\n",
    "        d0= \"_\"\n",
    "        d1= \" _\"\n",
    "        d2= \" _\"\n",
    "        for i in r_num:\n",
    "            for j in user_input:\n",
    "                if j == i and c == 0:\n",
    "                    d0 = i\n",
    "                if j == i and c == 1:\n",
    "                    d1 = i\n",
    "                if j == i and c == 2:\n",
    "                    d2 = i\n",
    "            c+=1\n",
    "        if d0+d1+d2 == r_num:\n",
    "            print(\"You guess all digits but sequence is not correct.\")\n",
    "        user_input = input(\"You have \"+str(guess_try)+\" tries left.\\nCorrect Number:\"+d0+d1+d2+\"\\nGuess the Number:\\n\")\n",
    "        if len(user_input) != 3:\n",
    "            print(\"Please 3 digits number.\")\n",
    "        else:\n",
    "            if user_input == r_num:\n",
    "                print(\"You win!, Congrats!, Right number is:\",r_num)\n",
    "                break\n",
    "                \n",
    "        guess_try-=1\n",
    "    if guess_try == 0:\n",
    "        print(\"Game Over\")\n",
    "guess_game()"
   ]
  },
  {
   "cell_type": "code",
   "execution_count": 50,
   "metadata": {},
   "outputs": [
    {
     "name": "stdout",
     "output_type": "stream",
     "text": [
      "Enter First Number: 7\n",
      "Enter Second Number: 4\n",
      "Enter Third Number: 3\n",
      "[4, 3]\n",
      "14\n"
     ]
    }
   ],
   "source": [
    "#\n",
    "l1 = [5,4,18,16,2,5,3]\n",
    "'''\n",
    "user input --- three numbers\n",
    "check each number*2 is equal to any l1 element. if yes then add them and print.\n",
    "\n",
    "'''\n",
    "\n",
    "num1 = int(input(\"Enter First Number: \"))\n",
    "num2 = int(input(\"Enter Second Number: \"))\n",
    "num3 = int(input(\"Enter Third Number: \"))\n",
    "def check_list(n1,n2,n3):\n",
    "    l0 = [n1,n2,n3]\n",
    "    lis0 =[]\n",
    "    for i in l1:\n",
    "        if i in l0 and i not in lis0:\n",
    "            lis0.append(i)\n",
    "            \n",
    "    print(lis0)\n",
    "    k=0\n",
    "    for i in lis0:\n",
    "        i = i*2\n",
    "        k = k+i\n",
    "    return k\n",
    "print(check_list(num1,num2,num3))"
   ]
  },
  {
   "cell_type": "code",
   "execution_count": 36,
   "metadata": {},
   "outputs": [
    {
     "name": "stdout",
     "output_type": "stream",
     "text": [
      "Enter the main string: Bye\n",
      "Enter the sub string: byy\n",
      "False\n"
     ]
    }
   ],
   "source": [
    "'''\n",
    "two inputs\n",
    "check second is the sub string of first one or not. Substring can be lower or upper case.\n",
    "\n",
    "Hello -- llo ---> True\n",
    "Bye -- Byy ----> False\n",
    "Bye -- E -----> True\n",
    "\n",
    "'''\n",
    "main_string = input(\"Enter the main string: \")\n",
    "sub_string = input(\"Enter the sub string: \")\n",
    "def check_str(m,s):\n",
    "    m = m.lower()\n",
    "    s = s.lower()\n",
    "    if s in m:\n",
    "        return True\n",
    "    else:\n",
    "        return False\n",
    "print(check_str(main_string,sub_string))\n"
   ]
  },
  {
   "cell_type": "code",
   "execution_count": 31,
   "metadata": {},
   "outputs": [
    {
     "name": "stdout",
     "output_type": "stream",
     "text": [
      "1\n"
     ]
    }
   ],
   "source": [
    "arr = [1,1,2,3,1,2]\n",
    "c = 0\n",
    "num = 0\n",
    "for i in arr:\n",
    "    if i == 3 and (arr[c-1]==2 and c > 0) and arr[c-2]==1:\n",
    "        num +=1\n",
    "    c+=1\n",
    "print(num)"
   ]
  },
  {
   "cell_type": "code",
   "execution_count": null,
   "metadata": {},
   "outputs": [],
   "source": []
  },
  {
   "cell_type": "code",
   "execution_count": null,
   "metadata": {},
   "outputs": [],
   "source": []
  }
 ],
 "metadata": {
  "kernelspec": {
   "display_name": "Python 3",
   "language": "python",
   "name": "python3"
  },
  "language_info": {
   "codemirror_mode": {
    "name": "ipython",
    "version": 3
   },
   "file_extension": ".py",
   "mimetype": "text/x-python",
   "name": "python",
   "nbconvert_exporter": "python",
   "pygments_lexer": "ipython3",
   "version": "3.7.3"
  }
 },
 "nbformat": 4,
 "nbformat_minor": 2
}
