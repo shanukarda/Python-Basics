{
 "cells": [
  {
   "cell_type": "markdown",
   "metadata": {},
   "source": [
    "# Functions in Python"
   ]
  },
  {
   "cell_type": "code",
   "execution_count": 1,
   "metadata": {
    "collapsed": true
   },
   "outputs": [
    {
     "name": "stdout",
     "output_type": "stream",
     "text": [
      "add two numbers:\n",
      "6\n",
      "\n",
      "We should know the position of formatl arguments so that we pass actual arguments in same sequence.\n",
      "name is: shanu\n",
      "age is:  25\n",
      "\n",
      "if we pass data with wrong position then it will print wrong data.\n",
      "name is: 25\n",
      "age is:  shanu\n",
      "\n",
      "after using keyword.\n",
      "name is: shanu\n",
      "age is:  25\n",
      "\n",
      "after using default and passing one argument only, it will show default value of age which is assinged in function.\n",
      "name in person1: shanu\n",
      "age in person1:  18\n",
      "\n",
      "We can also overwrite default value.\n",
      "name in person1: shanu\n",
      "age in person1:  96\n",
      "\n",
      "Finding sum of many numbers with varialbe length in functions:\n",
      "127\n",
      "shanu\n",
      "age 25\n",
      "city CHANDIGARH\n",
      "mobile 9592850384\n"
     ]
    }
   ],
   "source": [
    "# Functions and arguments:\n",
    "# Function is used to define a particular code which can call again and again anywhere in the program.\n",
    "# It will be define once and can called multiple times.\n",
    "# In python 'def' used to define function.\n",
    "def add(a,b):\n",
    "    # a and b are formal arguments in function.\n",
    "    c = a+b\n",
    "    print(c)\n",
    "print(\"add two numbers:\")\n",
    "add(2,4)\n",
    "# Here 2 and 4 are actual arguments.\n",
    "\n",
    "# There are 4 types of actual argument: 1.position 2.Keyword 3. Default 4. Variable length\n",
    "\n",
    "def person(name,age):\n",
    "    print(\"name is:\",name)\n",
    "    print(\"age is: \",age)\n",
    "print(\"\\nWe should know the position of formatl arguments so that we pass actual arguments in same sequence.\")\n",
    "person('shanu',25)\n",
    "# We need to take care of position of formal arguments of function so that we pass actual arguments\n",
    "# in same sequence.\n",
    "print(\"\\nif we pass data with wrong position then it will print wrong data.\")\n",
    "person(25,\"shanu\")\n",
    "# Like if we pass data with wrong position then it will print wrong data.\n",
    "\n",
    "# 2. Keyword:\n",
    "print(\"\\nafter using keyword.\")\n",
    "person(age=25,name=\"shanu\")\n",
    "# We can use keyword as name of formal arguments if we don't know sequence of formal arguments.\n",
    "# But we should know formal arguments(keyword).\n",
    "\n",
    "\n",
    "# 3. Default :\n",
    "def person1(name,age=18):\n",
    "    # We can assign default value in function to formal argument so that if we will not passing any value,\n",
    "    # it will take default value.\n",
    "    print(\"name in person1:\", name)\n",
    "    print(\"age in person1: \", age)\n",
    "print(\"\\nafter using default and passing one argument only, it will show default value of age which is assinged in function.\")\n",
    "person1('shanu')\n",
    "\n",
    "print(\"\\nWe can also overwrite default value.\")\n",
    "person1(\"shanu\",96) # Here we overwrite the value of age on default value.\n",
    "\n",
    "\n",
    "# 4. Variable length\n",
    "def sum(a,*b):\n",
    "    # Here a refers to first value and *b refer to rest all values, *b will make a tuple of all rest value.\n",
    "    c = a # assigned a's value to c.\n",
    "    for i in b:\n",
    "        c=c+i\n",
    "    print(c)\n",
    "\n",
    "print(\"\\nFinding sum of many numbers with varialbe length in functions:\")\n",
    "sum(3,42,45,24,5,3,5)\n",
    "\n",
    "#-------------------------------------------------------------------------------------\n",
    "\n",
    "#to use **kwargs\n",
    "# concept of 'Keyworded Variable Length Arguments'\n",
    "def person2(name,**data):\n",
    "    print(name)\n",
    "    for i,j in data.items():\n",
    "        print(i,j)\n",
    "\n",
    "person2(\"shanu\",age = 25,city = 'CHANDIGARH',mobile = 9592850384)\n"
   ]
  },
  {
   "cell_type": "code",
   "execution_count": 2,
   "metadata": {},
   "outputs": [
    {
     "name": "stdout",
     "output_type": "stream",
     "text": [
      "inside the function is called local variable: 10\n",
      "outside the function is called global variable: 5\n"
     ]
    }
   ],
   "source": [
    "# Concept of Scope (global variable and local variable)\n",
    "\n",
    "a= 5 # this is global variable\n",
    "def abc():\n",
    "    a = 10 # this is local variable\n",
    "    # we can create a global variable in function(local place)with 'global' keyword. \n",
    "    # And we can access global variable in function with 'global()'function.\n",
    "    # to access we need to give variable name. Like : x = global()['a']\n",
    "    print(\"inside the function is called local variable:\", a)\n",
    "\n",
    "abc()\n",
    "print(\"outside the function is called global variable:\",a)\n",
    "\n"
   ]
  },
  {
   "cell_type": "code",
   "execution_count": 3,
   "metadata": {},
   "outputs": [
    {
     "name": "stdout",
     "output_type": "stream",
     "text": [
      "Even : 8 and Odd : 6\n"
     ]
    }
   ],
   "source": [
    "# Pass List in to a function\n",
    "# to pass List into a function, we need to use for loop.\n",
    "def count(lis1):\n",
    "    even = 0\n",
    "    odd = 0\n",
    "    for i in lis1:\n",
    "        if i%2==0:\n",
    "            even+=1\n",
    "        else:\n",
    "            odd+=1\n",
    "    return even,odd\n",
    "\n",
    "lis1 = [20,456,431,247,34,22,36,77,98,31,78,55,63,44]\n",
    "\n",
    "e,o = count(lis1)\n",
    "print(\"Even : {} and Odd : {}\".format(e,o))"
   ]
  },
  {
   "cell_type": "code",
   "execution_count": 1,
   "metadata": {},
   "outputs": [
    {
     "name": "stdout",
     "output_type": "stream",
     "text": [
      "Enter the number to find factorial: 4\n",
      "Factorial of 4 is 24\n"
     ]
    }
   ],
   "source": [
    "\n",
    "x = int(input(\"Enter the number to find factorial: \"))\n",
    "def fact(n):\n",
    "    f=1\n",
    "    for i in range(1,n+1):\n",
    "        f = f*i\n",
    "    return f\n",
    "reslt = fact(x)\n",
    "print(\"Factorial of {} is {}\".format(x,reslt))"
   ]
  },
  {
   "cell_type": "code",
   "execution_count": null,
   "metadata": {},
   "outputs": [],
   "source": []
  }
 ],
 "metadata": {
  "kernelspec": {
   "display_name": "Python 3",
   "language": "python",
   "name": "python3"
  },
  "language_info": {
   "codemirror_mode": {
    "name": "ipython",
    "version": 3
   },
   "file_extension": ".py",
   "mimetype": "text/x-python",
   "name": "python",
   "nbconvert_exporter": "python",
   "pygments_lexer": "ipython3",
   "version": "3.7.3"
  }
 },
 "nbformat": 4,
 "nbformat_minor": 1
}
