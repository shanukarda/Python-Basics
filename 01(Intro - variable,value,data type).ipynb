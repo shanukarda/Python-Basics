{
 "cells": [
  {
   "cell_type": "code",
   "execution_count": 1,
   "metadata": {},
   "outputs": [
    {
     "name": "stdout",
     "output_type": "stream",
     "text": [
      "The type of num <class 'int'>\n",
      "The type of flt <class 'float'>\n",
      "The type of flt <class 'str'>\n",
      "The type of flt <class 'bool'>\n"
     ]
    }
   ],
   "source": [
    "num = 20\n",
    "flt =30.5\n",
    "name=\"ram\"\n",
    "male=True\n",
    "print(\"The type of num\",type(num))\n",
    "print(\"The type of flt\",type(flt))\n",
    "print(\"The type of flt\",type(name))\n",
    "print(\"The type of flt\",type(male))\n"
   ]
  },
  {
   "cell_type": "code",
   "execution_count": 2,
   "metadata": {},
   "outputs": [
    {
     "name": "stdout",
     "output_type": "stream",
     "text": [
      "Rohit\n",
      "Sharma\n"
     ]
    }
   ],
   "source": [
    "fst_name=\"Rohit\"\n",
    "lst_name=\"Sharma\"\n",
    "print(fst_name)\n",
    "print(lst_name)"
   ]
  },
  {
   "cell_type": "code",
   "execution_count": 3,
   "metadata": {},
   "outputs": [
    {
     "name": "stdout",
     "output_type": "stream",
     "text": [
      "RohitSharma\n"
     ]
    }
   ],
   "source": [
    "fst_name=\"Rohit\"\n",
    "lst_name=\"Sharma\"\n",
    "print(fst_name+lst_name)"
   ]
  },
  {
   "cell_type": "code",
   "execution_count": 4,
   "metadata": {},
   "outputs": [
    {
     "name": "stdout",
     "output_type": "stream",
     "text": [
      "Rohit Sharma\n"
     ]
    }
   ],
   "source": [
    "fst_name=\"Rohit\"\n",
    "lst_name=\"Sharma\"\n",
    "print(fst_name+\" \"+lst_name)"
   ]
  },
  {
   "cell_type": "code",
   "execution_count": 5,
   "metadata": {},
   "outputs": [
    {
     "name": "stdout",
     "output_type": "stream",
     "text": [
      "30\n",
      "40\n",
      "70\n"
     ]
    }
   ],
   "source": [
    "num1=30\n",
    "num2=40\n",
    "print(num1)\n",
    "print(num2)\n",
    "print(num1+num2)"
   ]
  },
  {
   "cell_type": "code",
   "execution_count": 8,
   "metadata": {},
   "outputs": [
    {
     "data": {
      "text/plain": [
       "str"
      ]
     },
     "execution_count": 8,
     "metadata": {},
     "output_type": "execute_result"
    }
   ],
   "source": [
    "sn1='30'\n",
    "svar = \"HI\"\n",
    "type(sn1)\n",
    "type(svar)"
   ]
  },
  {
   "cell_type": "code",
   "execution_count": 9,
   "metadata": {},
   "outputs": [
    {
     "name": "stdout",
     "output_type": "stream",
     "text": [
      "30HI\n"
     ]
    }
   ],
   "source": [
    "sn1='30'\n",
    "svar = \"HI\"\n",
    "print(sn1+svar)"
   ]
  },
  {
   "cell_type": "code",
   "execution_count": 11,
   "metadata": {},
   "outputs": [
    {
     "ename": "TypeError",
     "evalue": "unsupported operand type(s) for +: 'int' and 'str'",
     "output_type": "error",
     "traceback": [
      "\u001b[1;31m---------------------------------------------------------------------------\u001b[0m",
      "\u001b[1;31mTypeError\u001b[0m                                 Traceback (most recent call last)",
      "\u001b[1;32m<ipython-input-11-61770a9bf6cf>\u001b[0m in \u001b[0;36m<module>\u001b[1;34m\u001b[0m\n\u001b[0;32m      1\u001b[0m \u001b[0mn1\u001b[0m\u001b[1;33m=\u001b[0m\u001b[1;36m40\u001b[0m\u001b[1;33m\u001b[0m\u001b[1;33m\u001b[0m\u001b[0m\n\u001b[0;32m      2\u001b[0m \u001b[0mn2\u001b[0m\u001b[1;33m=\u001b[0m\u001b[1;34m\"50\"\u001b[0m\u001b[1;33m\u001b[0m\u001b[1;33m\u001b[0m\u001b[0m\n\u001b[1;32m----> 3\u001b[1;33m \u001b[0mprint\u001b[0m\u001b[1;33m(\u001b[0m\u001b[0mn1\u001b[0m\u001b[1;33m+\u001b[0m\u001b[0mn2\u001b[0m\u001b[1;33m)\u001b[0m\u001b[1;33m\u001b[0m\u001b[1;33m\u001b[0m\u001b[0m\n\u001b[0m\u001b[0;32m      4\u001b[0m \u001b[1;31m#it will give error of TypeError.\u001b[0m\u001b[1;33m\u001b[0m\u001b[1;33m\u001b[0m\u001b[1;33m\u001b[0m\u001b[0m\n",
      "\u001b[1;31mTypeError\u001b[0m: unsupported operand type(s) for +: 'int' and 'str'"
     ]
    }
   ],
   "source": [
    "n1=40\n",
    "n2=\"50\"\n",
    "print(n1+n2)\n",
    "#it will give error of TypeError."
   ]
  },
  {
   "cell_type": "code",
   "execution_count": 13,
   "metadata": {},
   "outputs": [
    {
     "name": "stdout",
     "output_type": "stream",
     "text": [
      "1\n",
      "1\n",
      "1\n",
      "<class 'int'>\n",
      "hello\n",
      "hello\n",
      "hello\n",
      "<class 'str'>\n"
     ]
    }
   ],
   "source": [
    "#multi assignment:-we can assign one value to multiple variables.\n",
    "a=b=c=1\n",
    "print(a)\n",
    "print(b)\n",
    "print(c)\n",
    "print(type(a))\n",
    "\n",
    "#same as string\n",
    "a=b=c=\"hello\"\n",
    "print(a)\n",
    "print(b)\n",
    "print(c)\n",
    "print(type(a))\n"
   ]
  },
  {
   "cell_type": "code",
   "execution_count": 20,
   "metadata": {},
   "outputs": [
    {
     "name": "stdout",
     "output_type": "stream",
     "text": [
      "before swaping a= 30 b= 40\n",
      "after swaping a= 40 b= 30\n"
     ]
    }
   ],
   "source": [
    "#swapping\n",
    "a=30\n",
    "b=40\n",
    "print(\"before swaping a= \"+str(a)+\" b= \"+str(b))\n",
    "#we can swap in single line\n",
    "a,b=b,a\n",
    "print(\"after swaping a= \"+str(a)+\" b= \"+str(b))\n",
    "\n"
   ]
  },
  {
   "cell_type": "code",
   "execution_count": 22,
   "metadata": {},
   "outputs": [
    {
     "name": "stdout",
     "output_type": "stream",
     "text": [
      "<class 'str'>\n",
      "<class 'str'>\n",
      "<class 'str'>\n",
      "<class 'str'>\n"
     ]
    }
   ],
   "source": [
    "#there are 4 ways to declare a string in python\n",
    "s1=\"Hi Python\"\n",
    "s2='Hi Python'\n",
    "s3='''Hi Python'''\n",
    "s4=\"\"\"Hi Python\"\"\"\n",
    "print(type(s1))\n",
    "print(type(s2))\n",
    "print(type(s3))\n",
    "print(type(s4))\n"
   ]
  },
  {
   "cell_type": "code",
   "execution_count": null,
   "metadata": {},
   "outputs": [],
   "source": [
    "#if you want use string which having already one single qoute then you can use double qoutes for that string. \n",
    "sn1=\"what's your name\"\n",
    "#if you want to declare multiliner string then you have to use triple qoute('''''').\n",
    "'''hello world\n",
    "here is my multi\n",
    "line comment'''\n",
    "\n",
    "#if you assign triple qoute('''''') to a varialbe then it will became a multiline string."
   ]
  },
  {
   "cell_type": "code",
   "execution_count": 28,
   "metadata": {},
   "outputs": [
    {
     "ename": "SyntaxError",
     "evalue": "invalid syntax (<ipython-input-28-aa505d05d82e>, line 2)",
     "output_type": "error",
     "traceback": [
      "\u001b[1;36m  File \u001b[1;32m\"<ipython-input-28-aa505d05d82e>\"\u001b[1;36m, line \u001b[1;32m2\u001b[0m\n\u001b[1;33m    12ab=12\u001b[0m\n\u001b[1;37m       ^\u001b[0m\n\u001b[1;31mSyntaxError\u001b[0m\u001b[1;31m:\u001b[0m invalid syntax\n"
     ]
    }
   ],
   "source": [
    "# A variable name must start with a letter of the underscore character(a,_a)\n",
    "#vaiable name should not be started with a number or should not be contains special characters except underscore (_)\n",
    "12ab=12\n",
    "2_a=30\n",
    "@b=30"
   ]
  },
  {
   "cell_type": "code",
   "execution_count": 31,
   "metadata": {},
   "outputs": [],
   "source": [
    "#python is a case senstive language. below mentioned all varialbes are different\n",
    "age=25\n",
    "Age=30\n",
    "AGE=46"
   ]
  },
  {
   "cell_type": "code",
   "execution_count": 43,
   "metadata": {},
   "outputs": [
    {
     "name": "stdout",
     "output_type": "stream",
     "text": [
      "['False', 'None', 'True', 'and', 'as', 'assert', 'async', 'await', 'break', 'class', 'continue', 'def', 'del', 'elif', 'else', 'except', 'finally', 'for', 'from', 'global', 'if', 'import', 'in', 'is', 'lambda', 'nonlocal', 'not', 'or', 'pass', 'raise', 'return', 'try', 'while', 'with', 'yield']\n"
     ]
    }
   ],
   "source": [
    "#we cant use keywords & in built in function for declaring a variable. There are 33 keywords\n",
    "import keyword\n",
    "print(keyword.kwlist)\n"
   ]
  },
  {
   "cell_type": "code",
   "execution_count": 42,
   "metadata": {},
   "outputs": [
    {
     "name": "stdout",
     "output_type": "stream",
     "text": [
      "Ram has 4 years of work experience in python and 3.5 years of work experience in Java. Total he has  Total he has  7.5 years of work experience in IT idustry.\n"
     ]
    }
   ],
   "source": [
    "a1=\"Ram has\"\n",
    "a2=4\n",
    "a3=\"years of work experience in\"\n",
    "a4=\"python and\"\n",
    "a6=3.5\n",
    "a7=\"Java. Total he has \"\n",
    "a10=\"IT idustry.\"\n",
    "\n",
    "print(a1,a2,a3,a4,a6,a3,a7,a8,a2+a6,a3,a10)"
   ]
  },
  {
   "cell_type": "code",
   "execution_count": 45,
   "metadata": {},
   "outputs": [
    {
     "name": "stdout",
     "output_type": "stream",
     "text": [
      "enter you name: hello\n",
      "hello\n"
     ]
    }
   ],
   "source": [
    "name=input(\"enter you name: \")\n",
    "print(name)"
   ]
  },
  {
   "cell_type": "code",
   "execution_count": 49,
   "metadata": {},
   "outputs": [
    {
     "name": "stdout",
     "output_type": "stream",
     "text": [
      "Enter you first name: Rohit\n",
      "Enter you last name: Sharma\n",
      "Rohit Sharma\n"
     ]
    }
   ],
   "source": [
    "fst_name=input(\"Enter you first name: \")\n",
    "lst_name=input(\"Enter you last name: \")\n",
    "print(fst_name,lst_name)"
   ]
  },
  {
   "cell_type": "code",
   "execution_count": 1,
   "metadata": {},
   "outputs": [
    {
     "name": "stdout",
     "output_type": "stream",
     "text": [
      "enter your name: shanu\n",
      "enter56\n"
     ]
    }
   ],
   "source": [
    "fst_name=input(\"enter your name: \")\n",
    "roll_num=input(\"enter\")"
   ]
  },
  {
   "cell_type": "code",
   "execution_count": null,
   "metadata": {},
   "outputs": [],
   "source": []
  }
 ],
 "metadata": {
  "kernelspec": {
   "display_name": "Python 3",
   "language": "python",
   "name": "python3"
  },
  "language_info": {
   "codemirror_mode": {
    "name": "ipython",
    "version": 3
   },
   "file_extension": ".py",
   "mimetype": "text/x-python",
   "name": "python",
   "nbconvert_exporter": "python",
   "pygments_lexer": "ipython3",
   "version": "3.7.3"
  }
 },
 "nbformat": 4,
 "nbformat_minor": 2
}
