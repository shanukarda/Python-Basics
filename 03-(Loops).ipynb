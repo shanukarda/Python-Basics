{
 "cells": [
  {
   "cell_type": "markdown",
   "metadata": {},
   "source": [
    "## Loops"
   ]
  },
  {
   "cell_type": "code",
   "execution_count": null,
   "metadata": {},
   "outputs": [],
   "source": [
    "'''loops\n",
    "   >>2 categories\n",
    "       1. infinite (while loop) 2.finite (for loop)\n",
    "       \n",
    "       \n",
    "'''"
   ]
  },
  {
   "cell_type": "code",
   "execution_count": 2,
   "metadata": {},
   "outputs": [
    {
     "name": "stdout",
     "output_type": "stream",
     "text": [
      "<class 'list'>\n",
      "['a', 'b', 'c']\n"
     ]
    }
   ],
   "source": [
    "l = ['a','b','c']\n",
    "print(type(l))\n",
    "print(l)"
   ]
  },
  {
   "cell_type": "code",
   "execution_count": 3,
   "metadata": {},
   "outputs": [
    {
     "name": "stdout",
     "output_type": "stream",
     "text": [
      "a\n",
      "b\n",
      "c\n"
     ]
    }
   ],
   "source": [
    "for i in l:# for takes only iterable object. Here 'l' is a iterable loop.\n",
    "    print(i)\n",
    "    \n",
    "# Iterable objects are list,tuple,string,set,dictionary. \n",
    "# 'int' object is not iterable."
   ]
  },
  {
   "cell_type": "code",
   "execution_count": 4,
   "metadata": {},
   "outputs": [
    {
     "name": "stdout",
     "output_type": "stream",
     "text": [
      "hello\n"
     ]
    }
   ],
   "source": [
    "a=20\n",
    "while a==20:\n",
    "    print(\"hello\")\n",
    "    a+=1\n",
    "    \n",
    "#how to print 2 hello withoout doing modification in above code."
   ]
  },
  {
   "cell_type": "code",
   "execution_count": 5,
   "metadata": {},
   "outputs": [
    {
     "name": "stdout",
     "output_type": "stream",
     "text": [
      "hello\n",
      "hello\n"
     ]
    }
   ],
   "source": [
    "#solution\n",
    "a=20\n",
    "counter=0\n",
    "while a==20:\n",
    "    print(\"hello\")\n",
    "    counter+=1\n",
    "    if counter ==2:\n",
    "        a+=1\n"
   ]
  },
  {
   "cell_type": "code",
   "execution_count": 6,
   "metadata": {},
   "outputs": [
    {
     "name": "stdout",
     "output_type": "stream",
     "text": [
      "Hello\n",
      "Hello\n",
      "Hello\n",
      "Hello\n",
      "Hello\n",
      "Hello\n",
      "Hello\n",
      "Hello\n",
      "Hello\n",
      "Hello\n"
     ]
    }
   ],
   "source": [
    "#write a code to print hello 10 times using while loop\n",
    "\n",
    "a =0\n",
    "while a<10:\n",
    "    print(\"Hello\")\n",
    "    a+=1"
   ]
  },
  {
   "cell_type": "code",
   "execution_count": 7,
   "metadata": {},
   "outputs": [
    {
     "name": "stdout",
     "output_type": "stream",
     "text": [
      "Hello\n",
      "Hello\n",
      "Hello\n",
      "Hello\n",
      "Hello\n",
      "Hello\n",
      "Hello\n",
      "Hello\n",
      "Hello\n",
      "Hello\n",
      "Hello\n"
     ]
    }
   ],
   "source": [
    "#write a code to print hello 10 times using for loop\n",
    "for i in range(10):\n",
    "    print(\"Hello\")"
   ]
  },
  {
   "cell_type": "code",
   "execution_count": 8,
   "metadata": {},
   "outputs": [
    {
     "name": "stdout",
     "output_type": "stream",
     "text": [
      "Hello 0\n",
      "Hello 1\n",
      "Hello 2\n",
      "Hello 3\n",
      "Hello 4\n",
      "Hello 5\n",
      "Hello 6\n",
      "Hello 7\n",
      "Hello 8\n",
      "Hello 9\n"
     ]
    }
   ],
   "source": [
    "for i in range(10):\n",
    "    print(\"Hello\",i)"
   ]
  },
  {
   "cell_type": "code",
   "execution_count": 10,
   "metadata": {},
   "outputs": [
    {
     "name": "stdout",
     "output_type": "stream",
     "text": [
      "Hello 2\n",
      "Hello 3\n",
      "Hello 4\n",
      "Hello 5\n",
      "Hello 6\n",
      "Hello 7\n",
      "Hello 8\n",
      "Hello 9\n"
     ]
    }
   ],
   "source": [
    "for i in range(2,10):\n",
    "    print(\"Hello\",i)"
   ]
  },
  {
   "cell_type": "code",
   "execution_count": 13,
   "metadata": {},
   "outputs": [
    {
     "name": "stdout",
     "output_type": "stream",
     "text": [
      "Hello 2\n",
      "Hello 5\n",
      "Hello 8\n"
     ]
    }
   ],
   "source": [
    "#step over\n",
    "\n",
    "for i in range(2,10,3):\n",
    "    print(\"Hello\",i)"
   ]
  },
  {
   "cell_type": "code",
   "execution_count": 1,
   "metadata": {},
   "outputs": [
    {
     "name": "stdout",
     "output_type": "stream",
     "text": [
      "Enter value: 25\n",
      "25\n",
      "Enter value: maninder\n",
      "maninder\n",
      "Enter value: Karda\n",
      "Karda\n"
     ]
    }
   ],
   "source": [
    "a=0\n",
    "while a<3:\n",
    "    b = input(\"Enter value: \")\n",
    "    print(b)\n",
    "    a+=1"
   ]
  },
  {
   "cell_type": "code",
   "execution_count": 14,
   "metadata": {},
   "outputs": [
    {
     "name": "stdout",
     "output_type": "stream",
     "text": [
      "Enter your Age :25\n",
      "25\n",
      "Enter your First Name :Shanu\n",
      "Shanu\n",
      "Enter your Last Name :Karda\n",
      "Karda\n"
     ]
    }
   ],
   "source": [
    "a=[\"Age\",\"First Name\",\"Last Name\"]\n",
    "for i in a:\n",
    "    b = input(\"Enter your \"+i+\" :\")\n",
    "    print(b)"
   ]
  },
  {
   "cell_type": "code",
   "execution_count": 9,
   "metadata": {},
   "outputs": [
    {
     "name": "stdout",
     "output_type": "stream",
     "text": [
      "enter your fst name shanu\n",
      "shanu\n",
      "enter your lst name karda\n",
      "karda\n",
      "enter your age 25\n",
      "25\n"
     ]
    }
   ],
   "source": [
    "# using for loop take input from user first name,last name and age.\n",
    "# condition :- dont use list,input() can be defined once.\n",
    "a=\"enter your fst name \"\n",
    "for i in range(3):\n",
    "    value=input(a)\n",
    "    print(value)\n",
    "    a=\"enter your lst name \"\n",
    "    if i==1:\n",
    "        a='enter your age '"
   ]
  },
  {
   "cell_type": "code",
   "execution_count": 4,
   "metadata": {},
   "outputs": [
    {
     "name": "stdout",
     "output_type": "stream",
     "text": [
      "enter a value: 4\n",
      "Hello\n",
      "Hello\n",
      "Hello\n",
      "Hello\n"
     ]
    }
   ],
   "source": [
    "c = int(input(\"enter a value: \"))\n",
    "i=0\n",
    "while i<c:\n",
    "    print(\"Hello\")\n",
    "    i+=1"
   ]
  },
  {
   "cell_type": "code",
   "execution_count": 11,
   "metadata": {},
   "outputs": [
    {
     "name": "stdout",
     "output_type": "stream",
     "text": [
      "0\n",
      "1\n",
      "2\n",
      "3\n",
      "4\n"
     ]
    }
   ],
   "source": [
    "#break :- it is used to stop the loop.\n",
    "for i in range(10):\n",
    "    if i == 5:\n",
    "        break\n",
    "    print(i)"
   ]
  },
  {
   "cell_type": "code",
   "execution_count": 18,
   "metadata": {},
   "outputs": [
    {
     "name": "stdout",
     "output_type": "stream",
     "text": [
      "5\n"
     ]
    }
   ],
   "source": [
    "for i in range(10):\n",
    "    if i != 5:\n",
    "        continue\n",
    "    print(i)\n",
    "    "
   ]
  },
  {
   "cell_type": "code",
   "execution_count": 13,
   "metadata": {},
   "outputs": [
    {
     "name": "stdout",
     "output_type": "stream",
     "text": [
      "helo\n",
      "helo\n"
     ]
    }
   ],
   "source": [
    "a=0\n",
    "while True:\n",
    "    print(\"helo\")\n",
    "    a+=1\n",
    "    if a==2:\n",
    "        break"
   ]
  },
  {
   "cell_type": "code",
   "execution_count": 22,
   "metadata": {},
   "outputs": [
    {
     "name": "stdout",
     "output_type": "stream",
     "text": [
      "1\n",
      "2\n",
      "3\n",
      "4\n",
      "a\n",
      "inside\n",
      "b\n"
     ]
    }
   ],
   "source": [
    "l = [1,2,3,4,'a','b']\n",
    "for i in l:\n",
    "    print(i)\n",
    "    if i=='a':\n",
    "        print(\"inside\")\n",
    "        continue\n",
    "        print(\"Hello\")\n"
   ]
  },
  {
   "cell_type": "code",
   "execution_count": 23,
   "metadata": {},
   "outputs": [
    {
     "name": "stdout",
     "output_type": "stream",
     "text": [
      "1\n",
      "2\n",
      "3\n",
      "4\n",
      "a\n",
      "inside\n"
     ]
    }
   ],
   "source": [
    "l = [1,2,3,4,'a','b']\n",
    "for i in l:\n",
    "    print(i)\n",
    "    if i=='a':\n",
    "        print(\"inside\")\n",
    "        break\n",
    "        print(\"Hello\")\n"
   ]
  },
  {
   "cell_type": "code",
   "execution_count": 31,
   "metadata": {},
   "outputs": [
    {
     "name": "stdout",
     "output_type": "stream",
     "text": [
      "no error\n",
      "error occures\n",
      "exception\n",
      "error\n"
     ]
    }
   ],
   "source": [
    "# print the list elements having 'error' and 'exception' keyword.\n",
    "\n",
    "l = ['Execution started',\"Line1\",\"no error\",\"line 2\",\"error occures\",\"exception\",\"success\",\"line 4\",\"complited\",\"error\"]\n",
    "for i in l:\n",
    "    if \"error\" in i:\n",
    "        print(i)\n",
    "    elif \"exception\" in i:\n",
    "        print(i)\n"
   ]
  },
  {
   "cell_type": "code",
   "execution_count": null,
   "metadata": {},
   "outputs": [],
   "source": []
  }
 ],
 "metadata": {
  "kernelspec": {
   "display_name": "Python 3",
   "language": "python",
   "name": "python3"
  },
  "language_info": {
   "codemirror_mode": {
    "name": "ipython",
    "version": 3
   },
   "file_extension": ".py",
   "mimetype": "text/x-python",
   "name": "python",
   "nbconvert_exporter": "python",
   "pygments_lexer": "ipython3",
   "version": "3.7.3"
  }
 },
 "nbformat": 4,
 "nbformat_minor": 2
}
